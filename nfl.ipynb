{
  "cells": [
    {
      "cell_type": "code",
      "execution_count": null,
      "metadata": {
        "colab": {
          "base_uri": "https://localhost:8080/"
        },
        "id": "tr7bMPni3mwG",
        "outputId": "6621fef4-8dac-4295-f8e8-a45e73892eab"
      },
      "outputs": [
        {
          "output_type": "stream",
          "name": "stdout",
          "text": [
            "Collecting nfl_data_py\n",
            "  Downloading nfl_data_py-0.3.3-py3-none-any.whl.metadata (12 kB)\n",
            "Requirement already satisfied: numpy<2.0,>=1.0 in /usr/local/lib/python3.10/dist-packages (from nfl_data_py) (1.26.4)\n",
            "Collecting pandas<2.0,>=1.0 (from nfl_data_py)\n",
            "  Downloading pandas-1.5.3-cp310-cp310-manylinux_2_17_x86_64.manylinux2014_x86_64.whl.metadata (11 kB)\n",
            "Collecting appdirs>1 (from nfl_data_py)\n",
            "  Downloading appdirs-1.4.4-py2.py3-none-any.whl.metadata (9.0 kB)\n",
            "Collecting fastparquet>0.5 (from nfl_data_py)\n",
            "  Downloading fastparquet-2024.11.0-cp310-cp310-manylinux_2_17_x86_64.manylinux2014_x86_64.whl.metadata (4.2 kB)\n",
            "Collecting cramjam>=2.3 (from fastparquet>0.5->nfl_data_py)\n",
            "  Downloading cramjam-2.9.1-cp310-cp310-manylinux_2_17_x86_64.manylinux2014_x86_64.whl.metadata (4.9 kB)\n",
            "Requirement already satisfied: fsspec in /usr/local/lib/python3.10/dist-packages (from fastparquet>0.5->nfl_data_py) (2024.10.0)\n",
            "Requirement already satisfied: packaging in /usr/local/lib/python3.10/dist-packages (from fastparquet>0.5->nfl_data_py) (24.2)\n",
            "Requirement already satisfied: python-dateutil>=2.8.1 in /usr/local/lib/python3.10/dist-packages (from pandas<2.0,>=1.0->nfl_data_py) (2.8.2)\n",
            "Requirement already satisfied: pytz>=2020.1 in /usr/local/lib/python3.10/dist-packages (from pandas<2.0,>=1.0->nfl_data_py) (2024.2)\n",
            "Requirement already satisfied: six>=1.5 in /usr/local/lib/python3.10/dist-packages (from python-dateutil>=2.8.1->pandas<2.0,>=1.0->nfl_data_py) (1.17.0)\n",
            "Downloading nfl_data_py-0.3.3-py3-none-any.whl (13 kB)\n",
            "Downloading appdirs-1.4.4-py2.py3-none-any.whl (9.6 kB)\n",
            "Downloading fastparquet-2024.11.0-cp310-cp310-manylinux_2_17_x86_64.manylinux2014_x86_64.whl (1.7 MB)\n",
            "\u001b[2K   \u001b[90m━━━━━━━━━━━━━━━━━━━━━━━━━━━━━━━━━━━━━━━━\u001b[0m \u001b[32m1.7/1.7 MB\u001b[0m \u001b[31m17.8 MB/s\u001b[0m eta \u001b[36m0:00:00\u001b[0m\n",
            "\u001b[?25hDownloading pandas-1.5.3-cp310-cp310-manylinux_2_17_x86_64.manylinux2014_x86_64.whl (12.1 MB)\n",
            "\u001b[2K   \u001b[90m━━━━━━━━━━━━━━━━━━━━━━━━━━━━━━━━━━━━━━━━\u001b[0m \u001b[32m12.1/12.1 MB\u001b[0m \u001b[31m84.2 MB/s\u001b[0m eta \u001b[36m0:00:00\u001b[0m\n",
            "\u001b[?25hDownloading cramjam-2.9.1-cp310-cp310-manylinux_2_17_x86_64.manylinux2014_x86_64.whl (2.4 MB)\n",
            "\u001b[2K   \u001b[90m━━━━━━━━━━━━━━━━━━━━━━━━━━━━━━━━━━━━━━━━\u001b[0m \u001b[32m2.4/2.4 MB\u001b[0m \u001b[31m60.2 MB/s\u001b[0m eta \u001b[36m0:00:00\u001b[0m\n",
            "\u001b[?25hInstalling collected packages: appdirs, cramjam, pandas, fastparquet, nfl_data_py\n",
            "  Attempting uninstall: pandas\n",
            "    Found existing installation: pandas 2.2.2\n",
            "    Uninstalling pandas-2.2.2:\n",
            "      Successfully uninstalled pandas-2.2.2\n",
            "\u001b[31mERROR: pip's dependency resolver does not currently take into account all the packages that are installed. This behaviour is the source of the following dependency conflicts.\n",
            "cudf-cu12 24.10.1 requires pandas<2.2.3dev0,>=2.0, but you have pandas 1.5.3 which is incompatible.\n",
            "google-colab 1.0.0 requires pandas==2.2.2, but you have pandas 1.5.3 which is incompatible.\n",
            "mizani 0.13.1 requires pandas>=2.2.0, but you have pandas 1.5.3 which is incompatible.\n",
            "plotnine 0.14.4 requires pandas>=2.2.0, but you have pandas 1.5.3 which is incompatible.\n",
            "xarray 2024.11.0 requires pandas>=2.1, but you have pandas 1.5.3 which is incompatible.\u001b[0m\u001b[31m\n",
            "\u001b[0mSuccessfully installed appdirs-1.4.4 cramjam-2.9.1 fastparquet-2024.11.0 nfl_data_py-0.3.3 pandas-1.5.3\n",
            "Requirement already satisfied: pandas in /usr/local/lib/python3.10/dist-packages (1.5.3)\n",
            "Requirement already satisfied: python-dateutil>=2.8.1 in /usr/local/lib/python3.10/dist-packages (from pandas) (2.8.2)\n",
            "Requirement already satisfied: pytz>=2020.1 in /usr/local/lib/python3.10/dist-packages (from pandas) (2024.2)\n",
            "Requirement already satisfied: numpy>=1.21.0 in /usr/local/lib/python3.10/dist-packages (from pandas) (1.26.4)\n",
            "Requirement already satisfied: six>=1.5 in /usr/local/lib/python3.10/dist-packages (from python-dateutil>=2.8.1->pandas) (1.17.0)\n",
            "\u001b[31mERROR: Could not find a version that satisfies the requirement os (from versions: none)\u001b[0m\u001b[31m\n",
            "\u001b[0m\u001b[31mERROR: No matching distribution found for os\u001b[0m\u001b[31m\n",
            "\u001b[0mRequirement already satisfied: matplotlib in /usr/local/lib/python3.10/dist-packages (3.8.0)\n",
            "Requirement already satisfied: contourpy>=1.0.1 in /usr/local/lib/python3.10/dist-packages (from matplotlib) (1.3.1)\n",
            "Requirement already satisfied: cycler>=0.10 in /usr/local/lib/python3.10/dist-packages (from matplotlib) (0.12.1)\n",
            "Requirement already satisfied: fonttools>=4.22.0 in /usr/local/lib/python3.10/dist-packages (from matplotlib) (4.55.3)\n",
            "Requirement already satisfied: kiwisolver>=1.0.1 in /usr/local/lib/python3.10/dist-packages (from matplotlib) (1.4.7)\n",
            "Requirement already satisfied: numpy<2,>=1.21 in /usr/local/lib/python3.10/dist-packages (from matplotlib) (1.26.4)\n",
            "Requirement already satisfied: packaging>=20.0 in /usr/local/lib/python3.10/dist-packages (from matplotlib) (24.2)\n",
            "Requirement already satisfied: pillow>=6.2.0 in /usr/local/lib/python3.10/dist-packages (from matplotlib) (11.0.0)\n",
            "Requirement already satisfied: pyparsing>=2.3.1 in /usr/local/lib/python3.10/dist-packages (from matplotlib) (3.2.0)\n",
            "Requirement already satisfied: python-dateutil>=2.7 in /usr/local/lib/python3.10/dist-packages (from matplotlib) (2.8.2)\n",
            "Requirement already satisfied: six>=1.5 in /usr/local/lib/python3.10/dist-packages (from python-dateutil>=2.7->matplotlib) (1.17.0)\n"
          ]
        }
      ],
      "source": [
        "!pip install nfl_data_py\n",
        "!pip install pandas\n",
        "!pip install os\n",
        "!pip install matplotlib"
      ]
    },
    {
      "cell_type": "code",
      "execution_count": null,
      "metadata": {
        "id": "ekg2EVlk334m"
      },
      "outputs": [],
      "source": [
        "import nfl_data_py as nfl\n",
        "import pandas as pd\n",
        "import os\n",
        "import urllib.request\n",
        "import matplotlib.pyplot as plt\n",
        "from matplotlib.offsetbox import OffsetImage, AnnotationBbox"
      ]
    },
    {
      "cell_type": "code",
      "execution_count": null,
      "metadata": {
        "colab": {
          "base_uri": "https://localhost:8080/"
        },
        "id": "eWKprUiz4Oko",
        "outputId": "2be1d671-cfa0-4711-bc51-96b677736997"
      },
      "outputs": [
        {
          "output_type": "stream",
          "name": "stdout",
          "text": [
            "2022 done.\n",
            "2023 done.\n",
            "2024 done.\n",
            "Downcasting floats.\n",
            "2022 done.\n",
            "Downcasting floats.\n",
            "2023 done.\n",
            "Downcasting floats.\n",
            "2024 done.\n",
            "Downcasting floats.\n"
          ]
        }
      ],
      "source": [
        "#Play-by-Play Data\n",
        "\n",
        "pbp = nfl.import_pbp_data([2022, 2023, 2024])\n",
        "pbp_2022 = nfl.import_pbp_data(years=[2022])\n",
        "pbp_2023 = nfl.import_pbp_data(years=[2023])\n",
        "pbp_2024 = nfl.import_pbp_data(years=[2024])"
      ]
    },
    {
      "cell_type": "code",
      "execution_count": null,
      "metadata": {
        "id": "8-N7Urx64YRN",
        "colab": {
          "base_uri": "https://localhost:8080/"
        },
        "outputId": "6e87aacf-2ee6-4cd0-b80a-52df04886ba6"
      },
      "outputs": [
        {
          "output_type": "stream",
          "name": "stdout",
          "text": [
            "All the years (138059, 392)\n",
            "2022 (49434, 391)\n",
            "2023 (49665, 391)\n",
            "2024 (38960, 372)\n"
          ]
        }
      ],
      "source": [
        "print(\"All the years\", pbp.shape)\n",
        "print(\"2022\" , pbp_2022.shape)\n",
        "print(\"2023\" , pbp_2023.shape)\n",
        "print(\"2024\" , pbp_2024.shape)"
      ]
    },
    {
      "cell_type": "code",
      "execution_count": null,
      "metadata": {
        "id": "ZwgP4JIK4lFS",
        "colab": {
          "base_uri": "https://localhost:8080/"
        },
        "outputId": "4a6a377d-5e7e-41f9-e32f-2d1bd0dc95d5"
      },
      "outputs": [
        {
          "output_type": "execute_result",
          "data": {
            "text/plain": [
              "Index(['play_id', 'game_id', 'old_game_id_x', 'home_team', 'away_team',\n",
              "       'season_type', 'week', 'posteam', 'posteam_type', 'defteam',\n",
              "       ...\n",
              "       'defense_players', 'n_offense', 'n_defense', 'ngs_air_yards',\n",
              "       'time_to_throw', 'was_pressure', 'route', 'defense_man_zone_type',\n",
              "       'defense_coverage_type', 'old_game_id'],\n",
              "      dtype='object', length=392)"
            ]
          },
          "metadata": {},
          "execution_count": 5
        }
      ],
      "source": [
        "pbp.columns"
      ]
    },
    {
      "cell_type": "code",
      "execution_count": null,
      "metadata": {
        "id": "sBIncELb4upP",
        "colab": {
          "base_uri": "https://localhost:8080/",
          "height": 458
        },
        "outputId": "1bbce497-cfcc-4807-e2de-ed41d499682b"
      },
      "outputs": [
        {
          "output_type": "execute_result",
          "data": {
            "text/plain": [
              "play_id                  float32\n",
              "game_id                   object\n",
              "old_game_id_x             object\n",
              "home_team                 object\n",
              "away_team                 object\n",
              "                          ...   \n",
              "was_pressure              object\n",
              "route                     object\n",
              "defense_man_zone_type     object\n",
              "defense_coverage_type     object\n",
              "old_game_id               object\n",
              "Length: 392, dtype: object"
            ],
            "text/html": [
              "<div>\n",
              "<style scoped>\n",
              "    .dataframe tbody tr th:only-of-type {\n",
              "        vertical-align: middle;\n",
              "    }\n",
              "\n",
              "    .dataframe tbody tr th {\n",
              "        vertical-align: top;\n",
              "    }\n",
              "\n",
              "    .dataframe thead th {\n",
              "        text-align: right;\n",
              "    }\n",
              "</style>\n",
              "<table border=\"1\" class=\"dataframe\">\n",
              "  <thead>\n",
              "    <tr style=\"text-align: right;\">\n",
              "      <th></th>\n",
              "      <th>0</th>\n",
              "    </tr>\n",
              "  </thead>\n",
              "  <tbody>\n",
              "    <tr>\n",
              "      <th>play_id</th>\n",
              "      <td>float32</td>\n",
              "    </tr>\n",
              "    <tr>\n",
              "      <th>game_id</th>\n",
              "      <td>object</td>\n",
              "    </tr>\n",
              "    <tr>\n",
              "      <th>old_game_id_x</th>\n",
              "      <td>object</td>\n",
              "    </tr>\n",
              "    <tr>\n",
              "      <th>home_team</th>\n",
              "      <td>object</td>\n",
              "    </tr>\n",
              "    <tr>\n",
              "      <th>away_team</th>\n",
              "      <td>object</td>\n",
              "    </tr>\n",
              "    <tr>\n",
              "      <th>...</th>\n",
              "      <td>...</td>\n",
              "    </tr>\n",
              "    <tr>\n",
              "      <th>was_pressure</th>\n",
              "      <td>object</td>\n",
              "    </tr>\n",
              "    <tr>\n",
              "      <th>route</th>\n",
              "      <td>object</td>\n",
              "    </tr>\n",
              "    <tr>\n",
              "      <th>defense_man_zone_type</th>\n",
              "      <td>object</td>\n",
              "    </tr>\n",
              "    <tr>\n",
              "      <th>defense_coverage_type</th>\n",
              "      <td>object</td>\n",
              "    </tr>\n",
              "    <tr>\n",
              "      <th>old_game_id</th>\n",
              "      <td>object</td>\n",
              "    </tr>\n",
              "  </tbody>\n",
              "</table>\n",
              "<p>392 rows × 1 columns</p>\n",
              "</div><br><label><b>dtype:</b> object</label>"
            ]
          },
          "metadata": {},
          "execution_count": 6
        }
      ],
      "source": [
        "pbp.dtypes"
      ]
    },
    {
      "cell_type": "code",
      "execution_count": null,
      "metadata": {
        "colab": {
          "base_uri": "https://localhost:8080/"
        },
        "id": "78RXn2dz45Kf",
        "outputId": "5cbc097a-a10b-4161-de17-d679f9d52027"
      },
      "outputs": [
        {
          "output_type": "stream",
          "name": "stdout",
          "text": [
            "2022 Processed Shape: (36870, 391)\n",
            "2023 Processed Shape: (37053, 391)\n",
            "2024 Processed Shape: (28878, 372)\n",
            "Combined Shape: (102801, 392)\n"
          ]
        }
      ],
      "source": [
        "#Cleaning the data, only showing pass or run plays.\n",
        "\n",
        "# For 2022\n",
        "pbp_rp_2022 = pbp_2022[(pbp_2022['pass'] == 1) | (pbp_2022['rush'] == 1)]\n",
        "pbp_rp_2022 = pbp_rp_2022.dropna(subset=['epa', 'posteam', 'defteam'])\n",
        "print(f\"2022 Processed Shape: {pbp_rp_2022.shape}\")\n",
        "\n",
        "# For 2023\n",
        "pbp_rp_2023 = pbp_2023[(pbp_2023['pass'] == 1) | (pbp_2023['rush'] == 1)]\n",
        "pbp_rp_2023 = pbp_rp_2023.dropna(subset=['epa', 'posteam', 'defteam'])\n",
        "print(f\"2023 Processed Shape: {pbp_rp_2023.shape}\")\n",
        "\n",
        "# For 2024\n",
        "pbp_rp_2024 = pbp_2024[(pbp_2024['pass'] == 1) | (pbp_2024['rush'] == 1)]\n",
        "pbp_rp_2024 = pbp_rp_2024.dropna(subset=['epa', 'posteam', 'defteam'])\n",
        "print(f\"2024 Processed Shape: {pbp_rp_2024.shape}\")\n",
        "\n",
        "# Combine all years into a single DataFrame\n",
        "pbp_rp_all = pd.concat([pbp_rp_2022, pbp_rp_2023, pbp_rp_2024])\n",
        "print(f\"Combined Shape: {pbp_rp_all.shape}\")\n"
      ]
    },
    {
      "cell_type": "code",
      "execution_count": null,
      "metadata": {
        "colab": {
          "base_uri": "https://localhost:8080/"
        },
        "id": "t-01pwu25ciD",
        "outputId": "4dcbbde2-9747-4fcb-e2f7-8a4361764ae5"
      },
      "outputs": [
        {
          "output_type": "stream",
          "name": "stdout",
          "text": [
            "Pass EPA for All Years:\n",
            "   posteam  pass_epa  year\n",
            "15      KC  0.280231  2022\n",
            "28      SF  0.179196  2022\n",
            "10     DET  0.174694  2022\n",
            "3      BUF  0.161378  2022\n",
            "6      CIN  0.149930  2022\n",
            "..     ...       ...   ...\n",
            "18      LV -0.084875  2024\n",
            "23     NYG -0.088553  2024\n",
            "30     TEN -0.090000  2024\n",
            "4      CAR -0.110127  2024\n",
            "7      CLE -0.154365  2024\n",
            "\n",
            "[96 rows x 3 columns]\n"
          ]
        }
      ],
      "source": [
        "#Expectied Points Added for each year on a passing play.\n",
        "\n",
        "# For 2022\n",
        "pass_epa_2022 = pbp_rp_2022[pbp_rp_2022['pass'] == 1].groupby('posteam')['epa'].mean().reset_index().rename(columns = {'epa' : 'pass_epa'})\n",
        "pass_epa_2022 = pass_epa_2022.sort_values(by='pass_epa', ascending=False)\n",
        "\n",
        "# For 2023\n",
        "pass_epa_2023 = pbp_rp_2023[pbp_rp_2023['pass'] == 1].groupby('posteam')['epa'].mean().reset_index().rename(columns = {'epa' : 'pass_epa'})\n",
        "pass_epa_2023 = pass_epa_2023.sort_values(by='pass_epa', ascending=False)\n",
        "\n",
        "# For 2024\n",
        "pass_epa_2024 = pbp_rp_2024[pbp_rp_2024['pass'] == 1].groupby('posteam')['epa'].mean().reset_index().rename(columns = {'epa' : 'pass_epa'})\n",
        "pass_epa_2024 = pass_epa_2024.sort_values(by='pass_epa', ascending=False)\n",
        "\n",
        "pass_epa_2022['year'] = 2022\n",
        "pass_epa_2023['year'] = 2023\n",
        "pass_epa_2024['year'] = 2024\n",
        "\n",
        "# Combine all years\n",
        "pass_epa_all_years = pd.concat([pass_epa_2022, pass_epa_2023, pass_epa_2024]).rename(columns = {'epa' : 'pass_epa'})\n",
        "\n",
        "# Sort by year and EPA\n",
        "pass_epa_all_years = pass_epa_all_years.sort_values(by=['year', 'pass_epa'], ascending=[True, False])\n",
        "\n",
        "print(\"Pass EPA for All Years:\")\n",
        "print(pass_epa_all_years)\n",
        "\n"
      ]
    },
    {
      "cell_type": "code",
      "execution_count": null,
      "metadata": {
        "colab": {
          "base_uri": "https://localhost:8080/"
        },
        "id": "HDGa84mdQ8eC",
        "outputId": "1b7b8f89-b206-4f33-ad09-9ad9bed65176"
      },
      "outputs": [
        {
          "output_type": "stream",
          "name": "stdout",
          "text": [
            "Pass EPA for All Years:\n",
            "   posteam  pass_epa  year\n",
            "15      KC  0.280231  2022\n",
            "28      SF  0.179196  2022\n",
            "10     DET  0.174694  2022\n",
            "3      BUF  0.161378  2022\n",
            "6      CIN  0.149930  2022\n",
            "..     ...       ...   ...\n",
            "18      LV -0.084875  2024\n",
            "23     NYG -0.088553  2024\n",
            "30     TEN -0.090000  2024\n",
            "4      CAR -0.110127  2024\n",
            "7      CLE -0.154365  2024\n",
            "\n",
            "[96 rows x 3 columns]\n"
          ]
        }
      ],
      "source": [
        "pass_epa_2022['year'] = 2022\n",
        "pass_epa_2023['year'] = 2023\n",
        "pass_epa_2024['year'] = 2024\n",
        "\n",
        "# Combine all years\n",
        "pass_epa_all_years = pd.concat([pass_epa_2022, pass_epa_2023, pass_epa_2024]).rename(columns = {'epa' : 'pass_epa'})\n",
        "\n",
        "# Sort by year and EPA\n",
        "pass_epa_all_years = pass_epa_all_years.sort_values(by=['year', 'pass_epa'], ascending=[True, False])\n",
        "\n",
        "print(\"Pass EPA for All Years:\")\n",
        "print(pass_epa_all_years)\n"
      ]
    },
    {
      "cell_type": "code",
      "execution_count": null,
      "metadata": {
        "colab": {
          "base_uri": "https://localhost:8080/"
        },
        "id": "gPJV9fOX6C3k",
        "outputId": "cfd96ecb-88b9-4a55-9cbb-7289518f99c4"
      },
      "outputs": [
        {
          "output_type": "stream",
          "name": "stdout",
          "text": [
            "2022 Rush EPA:\n",
            "   posteam  rush_epa\n",
            "25     PHI  0.094366\n",
            "2      BAL  0.015354\n",
            "1      ATL  0.006186\n",
            "26     PIT  0.005845\n",
            "7      CLE  0.004358\n",
            "23     NYG  0.004272\n",
            "5      CHI -0.004368\n",
            "4      CAR -0.006957\n",
            "11      GB -0.009453\n",
            "15      KC -0.021943\n",
            "8      DAL -0.034671\n",
            "28      SF -0.042567\n",
            "6      CIN -0.049671\n",
            "3      BUF -0.050041\n",
            "19     MIA -0.058639\n",
            "16      LA -0.064927\n",
            "10     DET -0.065049\n",
            "17     LAC -0.066015\n",
            "14     JAX -0.068367\n",
            "18      LV -0.073123\n",
            "27     SEA -0.073407\n",
            "0      ARI -0.078082\n",
            "21      NE -0.081935\n",
            "31     WAS -0.092193\n",
            "24     NYJ -0.093470\n",
            "30     TEN -0.103807\n",
            "22      NO -0.108635\n",
            "9      DEN -0.121433\n",
            "20     MIN -0.125228\n",
            "13     IND -0.178519\n",
            "29      TB -0.205010\n",
            "12     HOU -0.205560\n",
            "2023 Rush EPA:\n",
            "   posteam  rush_epa\n",
            "28      SF  0.020547\n",
            "2      BAL  0.019594\n",
            "3      BUF  0.018618\n",
            "10     DET -0.001786\n",
            "19     MIA -0.011835\n",
            "0      ARI -0.013017\n",
            "25     PHI -0.016331\n",
            "16      LA -0.024617\n",
            "5      CHI -0.042578\n",
            "8      DAL -0.048478\n",
            "11      GB -0.054297\n",
            "26     PIT -0.072063\n",
            "30     TEN -0.078118\n",
            "27     SEA -0.086761\n",
            "6      CIN -0.102922\n",
            "13     IND -0.107755\n",
            "22      NO -0.108246\n",
            "9      DEN -0.108540\n",
            "31     WAS -0.111999\n",
            "7      CLE -0.117261\n",
            "21      NE -0.130460\n",
            "15      KC -0.142467\n",
            "4      CAR -0.149338\n",
            "18      LV -0.149894\n",
            "29      TB -0.153467\n",
            "20     MIN -0.157792\n",
            "12     HOU -0.170061\n",
            "1      ATL -0.172797\n",
            "24     NYJ -0.183735\n",
            "14     JAX -0.185369\n",
            "23     NYG -0.201430\n",
            "17     LAC -0.241996\n",
            "2024 Rush EPA:\n",
            "   posteam  rush_epa\n",
            "25     PHI  0.077893\n",
            "3      BUF  0.069747\n",
            "31     WAS  0.053655\n",
            "2      BAL  0.037999\n",
            "10     DET  0.007547\n",
            "29      TB -0.005152\n",
            "22      NO -0.018397\n",
            "0      ARI -0.040505\n",
            "15      KC -0.041230\n",
            "14     JAX -0.052732\n",
            "1      ATL -0.054063\n",
            "11      GB -0.055648\n",
            "28      SF -0.059434\n",
            "4      CAR -0.066547\n",
            "16      LA -0.078736\n",
            "6      CIN -0.081873\n",
            "17     LAC -0.095262\n",
            "23     NYG -0.096129\n",
            "24     NYJ -0.102486\n",
            "9      DEN -0.104152\n",
            "5      CHI -0.109153\n",
            "8      DAL -0.111145\n",
            "20     MIN -0.118753\n",
            "13     IND -0.131001\n",
            "7      CLE -0.132252\n",
            "26     PIT -0.132998\n",
            "21      NE -0.137176\n",
            "12     HOU -0.148630\n",
            "27     SEA -0.154003\n",
            "30     TEN -0.162639\n",
            "19     MIA -0.263266\n",
            "18      LV -0.315002\n"
          ]
        }
      ],
      "source": [
        "#Expectied Points Added for each year on a running play.\n",
        "\n",
        "# For 2022\n",
        "rush_epa_2022 = pbp_rp_2022[pbp_rp_2022['rush'] == 1].groupby('posteam')['epa'].mean().reset_index().rename(columns = {'epa' : 'rush_epa'})\n",
        "rush_epa_2022 = rush_epa_2022.sort_values(by='rush_epa', ascending=False)\n",
        "print(\"2022 Rush EPA:\")\n",
        "print(rush_epa_2022)\n",
        "\n",
        "# For 2023\n",
        "rush_epa_2023 = pbp_rp_2023[pbp_rp_2023['rush'] == 1].groupby('posteam')['epa'].mean().reset_index().rename(columns = {'epa' : 'rush_epa'})\n",
        "rush_epa_2023 = rush_epa_2023.sort_values(by='rush_epa', ascending=False)\n",
        "print(\"2023 Rush EPA:\")\n",
        "print(rush_epa_2023)\n",
        "\n",
        "# For 2024\n",
        "rush_epa_2024 = pbp_rp_2024[pbp_rp_2024['rush'] == 1].groupby('posteam')['epa'].mean().reset_index().rename(columns = {'epa' : 'rush_epa'})\n",
        "rush_epa_2024 = rush_epa_2024.sort_values(by='rush_epa', ascending=False)\n",
        "print(\"2024 Rush EPA:\")\n",
        "print(rush_epa_2024)\n"
      ]
    },
    {
      "cell_type": "code",
      "execution_count": null,
      "metadata": {
        "colab": {
          "base_uri": "https://localhost:8080/"
        },
        "id": "Ugjgpll3R6w1",
        "outputId": "353dea9f-20d8-471d-c659-ca2f87a73c53"
      },
      "outputs": [
        {
          "output_type": "stream",
          "name": "stdout",
          "text": [
            "Combined Rush EPA for All Years:\n",
            "   posteam  rush_epa  year\n",
            "25     PHI  0.094366  2022\n",
            "2      BAL  0.015354  2022\n",
            "1      ATL  0.006186  2022\n",
            "26     PIT  0.005845  2022\n",
            "7      CLE  0.004358  2022\n"
          ]
        }
      ],
      "source": [
        "rush_epa_2022['year'] = 2022\n",
        "rush_epa_2023['year'] = 2023\n",
        "rush_epa_2024['year'] = 2024\n",
        "\n",
        "# Combine all years\n",
        "rush_epa_all_years = pd.concat([rush_epa_2022, rush_epa_2023, rush_epa_2024]).rename(columns = {'epa' : 'rush_epa'})\n",
        "\n",
        "# Sort by year and EPA\n",
        "rush_epa_all_years = rush_epa_all_years.sort_values(by=['year', 'rush_epa'], ascending=[True, False])\n",
        "\n",
        "print(\"Combined Rush EPA for All Years:\")\n",
        "print(rush_epa_all_years.head())"
      ]
    },
    {
      "cell_type": "code",
      "execution_count": null,
      "metadata": {
        "colab": {
          "base_uri": "https://localhost:8080/"
        },
        "id": "h5ebOstVSzpj",
        "outputId": "9342b655-6dcb-4084-c37e-0a7c93f7a4de"
      },
      "outputs": [
        {
          "output_type": "stream",
          "name": "stdout",
          "text": [
            "2022 EPA:\n",
            "  posteam  pass_epa  year_x  rush_epa  year_y\n",
            "0      KC  0.280231    2022 -0.021943    2022\n",
            "1      SF  0.179196    2022 -0.042567    2022\n",
            "2     DET  0.174694    2022 -0.065049    2022\n",
            "3     BUF  0.161378    2022 -0.050041    2022\n",
            "4     CIN  0.149930    2022 -0.049671    2022\n",
            "2023 EPA:\n",
            "  posteam  pass_epa  year_x  rush_epa  year_y\n",
            "0      SF  0.288453    2023  0.020547    2023\n",
            "1     DAL  0.214838    2023 -0.048478    2023\n",
            "2      GB  0.186362    2023 -0.054297    2023\n",
            "3     BUF  0.163493    2023  0.018618    2023\n",
            "4     MIA  0.134578    2023 -0.011835    2023\n",
            "2024 EPA:\n",
            "  posteam  pass_epa  year_x  rush_epa  year_y\n",
            "0     BAL  0.326551    2024  0.037999    2024\n",
            "1     BUF  0.323395    2024  0.069747    2024\n",
            "2     DET  0.251666    2024  0.007547    2024\n",
            "3     WAS  0.223735    2024  0.053655    2024\n",
            "4      GB  0.223207    2024 -0.055648    2024\n"
          ]
        }
      ],
      "source": [
        "# For 2022\n",
        "epa_2022 = pd.merge(pass_epa_2022, rush_epa_2022, on='posteam')\n",
        "print(\"2022 EPA:\")\n",
        "print(epa_2022.head())\n",
        "\n",
        "# For 2023\n",
        "epa_2023 = pd.merge(pass_epa_2023, rush_epa_2023, on='posteam')\n",
        "print(\"2023 EPA:\")\n",
        "print(epa_2023.head())\n",
        "\n",
        "# For 2024\n",
        "epa_2024 = pd.merge(pass_epa_2024, rush_epa_2024, on='posteam')\n",
        "print(\"2024 EPA:\")\n",
        "print(epa_2024.head())"
      ]
    },
    {
      "cell_type": "code",
      "execution_count": null,
      "metadata": {
        "colab": {
          "base_uri": "https://localhost:8080/"
        },
        "id": "Q-WWUFRFSl2M",
        "outputId": "05088cd2-8332-4986-b795-e93b56373c7c"
      },
      "outputs": [
        {
          "output_type": "stream",
          "name": "stdout",
          "text": [
            "\n",
            "Combined EPA for All Years:\n",
            "   posteam  pass_epa  year_x  rush_epa  year_y  year\n",
            "5      PHI  0.130672    2022  0.094366    2022  2022\n",
            "20     BAL -0.010278    2022  0.015354    2022  2022\n",
            "19     ATL  0.002979    2022  0.006186    2022  2022\n",
            "17     PIT  0.020692    2022  0.005845    2022  2022\n",
            "18     CLE  0.018411    2022  0.004358    2022  2022\n"
          ]
        }
      ],
      "source": [
        "epa_2022['year'] = 2022\n",
        "epa_2023['year'] = 2023\n",
        "epa_2024['year'] = 2024\n",
        "\n",
        "# Combine all years\n",
        "epa_all_years = pd.concat([epa_2022, epa_2023, epa_2024])\n",
        "\n",
        "# Sort by year and pass EPA\n",
        "epa_all_years = epa_all_years.sort_values(by=['year', 'rush_epa'], ascending=[True, False])\n",
        "\n",
        "print(\"\\nCombined EPA for All Years:\")\n",
        "print(epa_all_years.head())\n"
      ]
    },
    {
      "cell_type": "code",
      "execution_count": null,
      "metadata": {
        "colab": {
          "base_uri": "https://localhost:8080/"
        },
        "id": "VzUML5pt6OtA",
        "outputId": "a3ffe365-90b5-4d6b-df42-eca40f334e43"
      },
      "outputs": [
        {
          "output_type": "stream",
          "name": "stdout",
          "text": [
            "   team_abbr                                     team_logo_espn\n",
            "0        ARI  https://a.espncdn.com/i/teamlogos/nfl/500/ari.png\n",
            "1        ATL  https://a.espncdn.com/i/teamlogos/nfl/500/atl.png\n",
            "2        BAL  https://a.espncdn.com/i/teamlogos/nfl/500/bal.png\n",
            "3        BUF  https://a.espncdn.com/i/teamlogos/nfl/500/buf.png\n",
            "4        CAR  https://a.espncdn.com/i/teamlogos/nfl/500-dark...\n",
            "5        CHI  https://a.espncdn.com/i/teamlogos/nfl/500/chi.png\n",
            "6        CIN  https://a.espncdn.com/i/teamlogos/nfl/500/cin.png\n",
            "7        CLE  https://a.espncdn.com/i/teamlogos/nfl/500/cle.png\n",
            "8        DAL  https://a.espncdn.com/i/teamlogos/nfl/500/dal.png\n",
            "9        DEN  https://a.espncdn.com/i/teamlogos/nfl/500/den.png\n",
            "10       DET  https://a.espncdn.com/i/teamlogos/nfl/500/det.png\n",
            "11        GB   https://a.espncdn.com/i/teamlogos/nfl/500/gb.png\n",
            "12       HOU  https://a.espncdn.com/i/teamlogos/nfl/500/hou.png\n",
            "13       IND  https://a.espncdn.com/i/teamlogos/nfl/500/ind.png\n",
            "14       JAX  https://a.espncdn.com/i/teamlogos/nfl/500/jax.png\n",
            "15        KC   https://a.espncdn.com/i/teamlogos/nfl/500/kc.png\n",
            "16        LA  https://a.espncdn.com/i/teamlogos/nfl/500/lar.png\n",
            "17       LAC  https://a.espncdn.com/i/teamlogos/nfl/500/lac.png\n",
            "18       LAR  https://a.espncdn.com/i/teamlogos/nfl/500/lar.png\n",
            "19        LV   https://a.espncdn.com/i/teamlogos/nfl/500/lv.png\n",
            "20       MIA  https://a.espncdn.com/i/teamlogos/nfl/500/mia.png\n",
            "21       MIN  https://a.espncdn.com/i/teamlogos/nfl/500/min.png\n",
            "22        NE   https://a.espncdn.com/i/teamlogos/nfl/500/ne.png\n",
            "23        NO   https://a.espncdn.com/i/teamlogos/nfl/500/no.png\n",
            "24       NYG  https://a.espncdn.com/i/teamlogos/nfl/500/nyg.png\n",
            "25       NYJ  https://a.espncdn.com/i/teamlogos/nfl/500/nyj.png\n",
            "26       OAK   https://a.espncdn.com/i/teamlogos/nfl/500/lv.png\n",
            "27       PHI  https://a.espncdn.com/i/teamlogos/nfl/500/phi.png\n",
            "28       PIT  https://a.espncdn.com/i/teamlogos/nfl/500/pit.png\n",
            "29        SD  https://a.espncdn.com/i/teamlogos/nfl/500/lac.png\n",
            "30       SEA  https://a.espncdn.com/i/teamlogos/nfl/500/sea.png\n",
            "31        SF   https://a.espncdn.com/i/teamlogos/nfl/500/sf.png\n",
            "32       STL  https://a.espncdn.com/i/teamlogos/nfl/500/lar.png\n",
            "33        TB   https://a.espncdn.com/i/teamlogos/nfl/500/tb.png\n",
            "34       TEN  https://a.espncdn.com/i/teamlogos/nfl/500/ten.png\n",
            "35       WAS  https://a.espncdn.com/i/teamlogos/nfl/500/wsh.png\n"
          ]
        }
      ],
      "source": [
        "logos = nfl.import_team_desc()[['team_abbr','team_logo_espn']]\n",
        "print(logos)"
      ]
    },
    {
      "cell_type": "code",
      "execution_count": null,
      "metadata": {
        "id": "7bPCKeW67lZm"
      },
      "outputs": [],
      "source": [
        "logo_paths = []\n",
        "team_abbr = []\n",
        "if not os.path.exists(\"logos\"):\n",
        "    os.makedirs(\"logos\")\n",
        "\n",
        "for team in range(len(logos)):\n",
        "    urllib.request.urlretrieve(logos['team_logo_espn'][team], f\"logos/{logos['team_abbr'][team]}.tif\")\n",
        "    logo_paths.append(f\"logos/{logos['team_abbr'][team]}.tif\")\n",
        "    team_abbr.append(logos['team_abbr'][team])\n",
        "\n",
        "data = {'team_abbr' : team_abbr, 'logo_path' : logo_paths}\n",
        "logo_data = pd.DataFrame(data)\n",
        "\n",
        "epa_with_logos = pd.merge(epa_2024, logo_data, left_on = 'posteam', right_on = 'team_abbr')\n",
        "pass_epa_2024 = pbp_rp_2024[pbp_rp_2024['pass'] == 1].groupby('posteam')['epa'].mean().reset_index().rename(columns={'epa': 'pass_epa_2024'})\n",
        "rush_epa_2024 = pbp_rp_2024[pbp_rp_2024['rush'] == 1].groupby('posteam')['epa'].mean().reset_index().rename(columns={'epa': 'rush_epa_2024'})\n",
        "\n",
        "epa_2024 = pd.merge(pass_epa_2024, rush_epa_2024, on='posteam')\n",
        "\n",
        "epa_with_logos = pd.merge(epa_2024, logo_data, left_on='posteam', right_on='team_abbr')\n",
        "\n"
      ]
    },
    {
      "cell_type": "code",
      "execution_count": null,
      "metadata": {
        "colab": {
          "base_uri": "https://localhost:8080/",
          "height": 511
        },
        "id": "SpEct6uiCamU",
        "outputId": "9815e2be-d70d-4554-9e4b-b1c004488277"
      },
      "outputs": [
        {
          "output_type": "display_data",
          "data": {
            "text/plain": [
              "<Figure size 640x480 with 1 Axes>"
            ],
            "image/png": "[encoded data removed]"
          },
          "metadata": {}
        }
      ],
      "source": [
        "def getImage(path, team_abbr):\n",
        "    zoom = 0.05  # Default zoom\n",
        "    if team_abbr == 'NYJ':  # Example for Jets\n",
        "        zoom = 0.013\n",
        "    return OffsetImage(plt.imread(path, format=\"tif\"), zoom=zoom)\n",
        "\n",
        "x = epa_with_logos['pass_epa_2024']\n",
        "y = epa_with_logos['rush_epa_2024']\n",
        "paths = epa_with_logos['logo_path']\n",
        "\n",
        "fig, ax = plt.subplots()\n",
        "\n",
        "for x0, y0, path, team in zip(x, y, paths, epa_with_logos['team_abbr']):\n",
        "    ab = AnnotationBbox(getImage(path, team), (x0, y0), frameon=False)\n",
        "    ax.add_artist(ab)\n",
        "\n",
        "plt.xlim(-0.2, 0.3)\n",
        "plt.ylim(-0.25, 0.15)\n",
        "plt.title(\"Rush and Pass EPA, 2024\")\n",
        "plt.xlabel(\"EPA/Pass\")\n",
        "plt.ylabel(\"EPA/Rush\")\n",
        "plt.show()\n"
      ]
    },
    {
      "cell_type": "code",
      "execution_count": null,
      "metadata": {
        "colab": {
          "base_uri": "https://localhost:8080/"
        },
        "id": "mkpSLgT8Iy2L",
        "outputId": "f86e9ca4-3f03-4ca9-a57c-69056b374ea2"
      },
      "outputs": [
        {
          "output_type": "stream",
          "name": "stdout",
          "text": [
            "2024 done.\n",
            "Downcasting floats.\n",
            "\n",
            "Ambiguous Receivers:\n",
            "B.Robinson is associated with teams: ATL, WAS\n",
            "D.Moore is associated with teams: CAR, CHI\n",
            "J.Brooks is associated with teams: DAL, CAR\n",
            "J.Hill is associated with teams: BAL, MIA\n",
            "J.Reynolds is associated with teams: DEN, JAX\n",
            "J.Ross is associated with teams: PHI, KC\n",
            "J.Taylor is associated with teams: IND, HOU\n",
            "J.Williams is associated with teams: DEN, DET\n",
            "J.Wilson is associated with teams: PHI, MIA\n",
            "Ja.Williams is associated with teams: NO, DET\n",
            "M.Valdes-Scantling is associated with teams: BUF, NO\n",
            "T.Hill is associated with teams: NO, MIA\n",
            "T.Johnson is associated with teams: LA, NYG\n",
            "T.Scott is associated with teams: WAS, CHI\n",
            "\n",
            "Ambiguous Rushers:\n",
            "B.Allen is associated with teams: NYJ, SF\n",
            "B.Robinson is associated with teams: ATL, WAS\n",
            "J.Jackson is associated with teams: TEN, NO\n",
            "J.Taylor is associated with teams: IND, HOU\n",
            "J.Williams is associated with teams: DEN, DET\n",
            "M.Jones is associated with teams: JAX, NE\n",
            "T.Boyle is associated with teams: MIA, NYG\n",
            "T.Hill is associated with teams: NO, MIA\n",
            "\n",
            "Ambiguous Passers:\n",
            "T.Boyle is associated with teams: MIA, NYG\n"
          ]
        }
      ],
      "source": [
        "# List of traded offensive players (2024)\n",
        "traded_players = [\n",
        "    {\"name\": \"M.Williams\", \"team\": \"PIT\", \"role\": \"receiver_player_name\"},\n",
        "    {\"name\": \"J.Mingo\", \"team\": \"DAL\", \"role\": \"receiver_player_name\"},\n",
        "    {\"name\": \"D.Johnson\", \"team\": \"BAL\", \"role\": \"receiver_player_name\"},\n",
        "    {\"name\": \"D.Hopkins\", \"team\": \"KC\", \"role\": \"receiver_player_name\"},\n",
        "    {\"name\": \"A.Cooper\", \"team\": \"BUF\", \"role\": \"receiver_player_name\"},\n",
        "    {\"name\": \"D.Adams\", \"team\": \"NYJ\", \"role\": \"receiver_player_name\"},\n",
        "    {\"name\": \"K.Herbert\", \"team\": \"CIN\", \"role\": \"receiver_player_name\"},\n",
        "    {\"name\": \"C.Akers\", \"team\": \"MIN\", \"role\": \"receiver_player_name\"},\n",
        "    {\"name\": \"K.Herbert\", \"team\": \"CIN\", \"role\": \"rusher_player_name\"},\n",
        "    {\"name\": \"C.Akers\", \"team\": \"MIN\", \"role\": \"rusher_player_name\"},\n",
        "    {\"name\": \"C.Robinson\", \"team\": \"MIN\", \"role\": \"passer_player_name\"},\n",
        "]\n",
        "\n",
        "# Function to identify ambiguous players\n",
        "def find_ambiguous_players(pbp_2024, traded_players):\n",
        "    ambiguous_players = {}\n",
        "    for role in ['receiver_player_name', 'rusher_player_name', 'passer_player_name']:\n",
        "        # Group by player name and count unique teams\n",
        "        player_teams = pbp_2024.groupby(role)['posteam'].nunique().reset_index()\n",
        "        ambiguous = player_teams[player_teams['posteam'] > 1]\n",
        "\n",
        "        # Exclude traded players from ambiguous list\n",
        "        ambiguous = ambiguous[~ambiguous[role].isin([p[\"name\"] for p in traded_players if p[\"role\"] == role])]\n",
        "\n",
        "        ambiguous_players[role] = ambiguous\n",
        "    return ambiguous_players\n",
        "\n",
        "# Function to resolve ambiguous stats for a specific player and team\n",
        "def resolve_ambiguous_stats(pbp_2024, player_name, role, team):\n",
        "    # Filter data for the specific player, role, and team\n",
        "    player_data = pbp_2024[(pbp_2024[role] == player_name) & (pbp_2024['posteam'] == team)]\n",
        "\n",
        "    # Sum the relevant yardage based on the role\n",
        "    if role == 'receiver_player_name':\n",
        "        total_yards = player_data['receiving_yards'].sum()\n",
        "    elif role == 'rusher_player_name':\n",
        "        total_yards = player_data['rushing_yards'].sum()\n",
        "    elif role == 'passer_player_name':\n",
        "        total_yards = player_data['passing_yards'].sum()\n",
        "    else:\n",
        "        raise ValueError(\"Invalid role. Use 'receiver_player_name', 'rusher_player_name', or 'passer_player_name'.\")\n",
        "\n",
        "    return total_yards\n",
        "\n",
        "# Example play-by-play data for 2024\n",
        "pbp_2024 = nfl.import_pbp_data([2024])\n",
        "\n",
        "# Identify ambiguous players, excluding traded players\n",
        "ambiguous_players = find_ambiguous_players(pbp_2024, traded_players)\n",
        "\n",
        "# Optional: Check all ambiguous players and their team associations\n",
        "for role, players in ambiguous_players.items():\n",
        "    print(f\"\\nAmbiguous {role.split('_')[0].capitalize()}s:\")\n",
        "    for player in players[role].unique():\n",
        "        teams = pbp_2024[pbp_2024[role] == player]['posteam'].unique()\n",
        "        print(f\"{player} is associated with teams: {', '.join(teams)}\")\n"
      ]
    },
    {
      "cell_type": "code",
      "execution_count": null,
      "metadata": {
        "colab": {
          "base_uri": "https://localhost:8080/"
        },
        "id": "JQB2bYo5Lbmq",
        "outputId": "133182b5-b372-42c8-9ce6-90ac36ee0a85"
      },
      "outputs": [
        {
          "output_type": "stream",
          "name": "stdout",
          "text": [
            "Top Passers (Passing Yards):\n",
            "   player_name  total_yards team\n",
            "37    J.Burrow       3977.0  NaN\n",
            "42      J.Goff       3759.0  NaN\n",
            "33     G.Smith       3623.0  NaN\n",
            "8   B.Mayfield       3617.0  NaN\n",
            "61   L.Jackson       3580.0  NaN\n",
            "75   S.Darnold       3530.0  NaN\n",
            "57   K.Cousins       3508.0  NaN\n",
            "67  M.Stafford       3463.0  NaN\n",
            "35     J.Allen       3395.0  NaN\n",
            "71   P.Mahomes       3348.0  NaN\n",
            "\n",
            "Top Rushers (Rushing Yards):\n",
            "    player_name  total_yards team\n",
            "220   S.Barkley       1688.0  NaN\n",
            "65      D.Henry       1474.0  NaN\n",
            "131    J.Jacobs       1147.0  NaN\n",
            "178  K.Williams       1121.0  NaN\n",
            "281  B.Robinson       1102.0  ATL\n",
            "124     J.Gibbs       1047.0  NaN\n",
            "35    C.Hubbard       1043.0  NaN\n",
            "259   T.Pollard        982.0  NaN\n",
            "8       A.Jones        979.0  NaN\n",
            "115    J.Conner        973.0  NaN\n",
            "\n",
            "Top Receivers (Receiving Yards):\n",
            "        player_name  total_yards team\n",
            "189         J.Chase       1413.0  NaN\n",
            "210     J.Jefferson       1243.0  NaN\n",
            "71           C.Lamb       1089.0  NaN\n",
            "25      A.St. Brown       1056.0  NaN\n",
            "212         J.Jeudy       1052.0  NaN\n",
            "238  J.Smith-Njigba        994.0  NaN\n",
            "404      T.McLaurin        969.0  NaN\n",
            "31         B.Bowers        968.0  NaN\n",
            "50         B.Thomas        956.0  NaN\n",
            "4           A.Brown        946.0  NaN\n"
          ]
        }
      ],
      "source": [
        "# Function to resolve ambiguous players and aggregate their stats\n",
        "def resolve_ambiguous_player_stats(pbp_2024, ambiguous_players, play_type):\n",
        "    resolved_stats = []\n",
        "    for role, players in ambiguous_players.items():\n",
        "        for _, row in players.iterrows():\n",
        "            player_name = row[role]\n",
        "            # Get teams associated with the ambiguous player\n",
        "            teams = pbp_2024[pbp_2024[role] == player_name]['posteam'].unique()\n",
        "            for team in teams:\n",
        "                # Filter for player and team\n",
        "                player_data = pbp_2024[(pbp_2024[role] == player_name) & (pbp_2024['posteam'] == team)]\n",
        "\n",
        "                # Sum the relevant yardage based on the play type\n",
        "                if play_type == 'pass' and role == 'passer_player_name':\n",
        "                    total_yards = player_data['passing_yards'].sum()\n",
        "                elif play_type == 'rush' and role == 'rusher_player_name':\n",
        "                    total_yards = player_data['rushing_yards'].sum()\n",
        "                elif play_type == 'receive' and role == 'receiver_player_name':\n",
        "                    total_yards = player_data['receiving_yards'].sum()\n",
        "                else:\n",
        "                    continue\n",
        "\n",
        "                # Append resolved stats\n",
        "                resolved_stats.append({'player_name': player_name, 'team': team, 'total_yards': total_yards})\n",
        "\n",
        "    return pd.DataFrame(resolved_stats)\n",
        "\n",
        "# Function to collect player yards by play type\n",
        "def collect_player_yards(pbp_2024, play_type=None, ambiguous_players=None):\n",
        "    if play_type == 'pass':\n",
        "        # Passing yards (using passer_player_name)\n",
        "        player_yards = (\n",
        "            pbp_2024.groupby('passer_player_name')['passing_yards']\n",
        "            .sum()\n",
        "            .reset_index()\n",
        "            .rename(columns={'passer_player_name': 'player_name', 'passing_yards': 'total_yards'})\n",
        "        )\n",
        "    elif play_type == 'rush':\n",
        "        # Rushing yards (using rusher_player_name)\n",
        "        player_yards = (\n",
        "            pbp_2024.groupby('rusher_player_name')['rushing_yards']\n",
        "            .sum()\n",
        "            .reset_index()\n",
        "            .rename(columns={'rusher_player_name': 'player_name', 'rushing_yards': 'total_yards'})\n",
        "        )\n",
        "    elif play_type == 'receive':\n",
        "        # Receiving yards (using receiver_player_name)\n",
        "        player_yards = (\n",
        "            pbp_2024.groupby('receiver_player_name')['receiving_yards']\n",
        "            .sum()\n",
        "            .reset_index()\n",
        "            .rename(columns={'receiver_player_name': 'player_name', 'receiving_yards': 'total_yards'})\n",
        "        )\n",
        "    else:\n",
        "        raise ValueError(\"Invalid play type. Choose 'pass', 'rush', or 'receive'.\")\n",
        "\n",
        "    # Drop players with no recorded name (NaN entries)\n",
        "    player_yards.dropna(subset=['player_name'], inplace=True)\n",
        "\n",
        "    # Resolve ambiguous players if applicable\n",
        "    if ambiguous_players:\n",
        "        resolved_stats = resolve_ambiguous_player_stats(pbp_2024, ambiguous_players, play_type)\n",
        "        # Remove ambiguous players from the main DataFrame\n",
        "        ambiguous_names = [p for players in ambiguous_players.values() for p in players.iloc[:, 0]]\n",
        "        player_yards = player_yards[~player_yards['player_name'].isin(ambiguous_names)]\n",
        "        # Add resolved stats back to the main DataFrame\n",
        "        player_yards = pd.concat([player_yards, resolved_stats], ignore_index=True)\n",
        "\n",
        "    return player_yards\n",
        "\n",
        "# Identify ambiguous players (e.g., from earlier code)\n",
        "ambiguous_players_dict = find_ambiguous_players(pbp_2024, traded_players)\n",
        "\n",
        "# Collect passing yards\n",
        "passing_yards = collect_player_yards(pbp_2024, play_type='pass', ambiguous_players=ambiguous_players)\n",
        "print(\"Top Passers (Passing Yards):\")\n",
        "print(passing_yards.sort_values(by='total_yards', ascending=False).head(10))\n",
        "\n",
        "# Collect rushing yards\n",
        "rushing_yards = collect_player_yards(pbp_2024, play_type='rush', ambiguous_players=ambiguous_players)\n",
        "print(\"\\nTop Rushers (Rushing Yards):\")\n",
        "print(rushing_yards.sort_values(by='total_yards', ascending=False).head(10))\n",
        "\n",
        "# Collect receiving yards\n",
        "receiving_yards = collect_player_yards(pbp_2024, play_type='receive', ambiguous_players=ambiguous_players)\n",
        "print(\"\\nTop Receivers (Receiving Yards):\")\n",
        "print(receiving_yards.sort_values(by='total_yards', ascending=False).head(10))\n"
      ]
    },
    {
      "cell_type": "code",
      "execution_count": null,
      "metadata": {
        "id": "KnWnqhkQZ2YG",
        "colab": {
          "base_uri": "https://localhost:8080/"
        },
        "outputId": "9cd0d315-dbd3-46a7-b023-b2777a422777"
      },
      "outputs": [
        {
          "output_type": "stream",
          "name": "stdout",
          "text": [
            "2024 done.\n",
            "Downcasting floats.\n",
            "Enter the player's full name (e.g., Patrick Mahomes): Patrick Mahomes\n",
            "\n",
            "Stats for Patrick Mahomes:\n",
            "  player_name  total_passing_yards  total_passing_attempts  \\\n",
            "0   P.Mahomes               3348.0                   538.0   \n",
            "\n",
            "   total_passing_touchdowns  total_interceptions  total_rushing_yards  \\\n",
            "0                      22.0                 11.0                262.0   \n",
            "\n",
            "   total_rushing_attempts  total_rushing_touchdowns  total_receiving_yards  \\\n",
            "0                    52.0                       1.0                    2.0   \n",
            "\n",
            "   total_receptions  total_receiving_touchdowns  \n",
            "0               1.0                         0.0  \n"
          ]
        }
      ],
      "source": [
        "import nfl_data_py as nfl\n",
        "import pandas as pd\n",
        "\n",
        "# Load play-by-play data for 2024\n",
        "pbp_2024 = nfl.import_pbp_data([2024])\n",
        "\n",
        "# Example of ambiguous players\n",
        "ambiguous_players = {\n",
        "    \"B.Robinson\": [\"ATL\", \"WAS\"],\n",
        "    \"D.Moore\": [\"CAR\", \"CHI\"],\n",
        "    \"J.Brooks\": [\"DAL\", \"CAR\"],\n",
        "    \"J.Hill\": [\"BAL\", \"MIA\"],\n",
        "    \"J.Ross\": [\"PHI\", \"KC\"],\n",
        "    \"J.Taylor\": [\"IND\", \"HOU\"],\n",
        "    \"J.Williams\": [\"DEN\", \"DET\"],\n",
        "    \"J.Wilson\": [\"PHI\", \"MIA\"],\n",
        "    \"T.Hill\": [\"NO\", \"MIA\"],\n",
        "    \"T.Johnson\": [\"LA\", \"NYG\"],\n",
        "    \"B.Allen\": [\"NYJ\", \"SF\"],\n",
        "    \"J.Jackson\": [\"TEN\", \"NO\"],\n",
        "}\n",
        "\n",
        "# Function to process user input into the database format\n",
        "def get_player_abbreviation(full_name):\n",
        "    names = full_name.split()\n",
        "    if len(names) < 2:\n",
        "        return None\n",
        "    return f\"{names[0][0]}.{names[1]}\"  # First initial + last name\n",
        "\n",
        "# Function to get all stats for a specific player\n",
        "def get_player_stats(pbp, player_name, team=None):\n",
        "    # Filter by role and optionally by team for ambiguous players\n",
        "    passer_stats = pbp[\n",
        "        (pbp['passer_player_name'] == player_name) & (pbp['posteam'] == team if team else True)\n",
        "    ].groupby('passer_player_name').agg(\n",
        "        total_passing_yards=('passing_yards', 'sum'),\n",
        "        total_passing_attempts=('pass_attempt', 'sum'),\n",
        "        total_passing_touchdowns=('pass_touchdown', 'sum'),\n",
        "        total_interceptions=('interception', 'sum'),\n",
        "    ).reset_index().rename(columns={'passer_player_name': 'player_name'})\n",
        "\n",
        "    rusher_stats = pbp[\n",
        "        (pbp['rusher_player_name'] == player_name) & (pbp['posteam'] == team if team else True)\n",
        "    ].groupby('rusher_player_name').agg(\n",
        "        total_rushing_yards=('rushing_yards', 'sum'),\n",
        "        total_rushing_attempts=('rush_attempt', 'sum'),\n",
        "        total_rushing_touchdowns=('rush_touchdown', 'sum'),\n",
        "    ).reset_index().rename(columns={'rusher_player_name': 'player_name'})\n",
        "\n",
        "    receiver_stats = pbp[\n",
        "        (pbp['receiver_player_name'] == player_name) & (pbp['posteam'] == team if team else True)\n",
        "    ].groupby('receiver_player_name').agg(\n",
        "        total_receiving_yards=('receiving_yards', 'sum'),\n",
        "        total_receptions=('complete_pass', 'sum'),\n",
        "        total_receiving_touchdowns=('pass_touchdown', 'sum'),\n",
        "    ).reset_index().rename(columns={'receiver_player_name': 'player_name'})\n",
        "\n",
        "    # Merge stats into a single DataFrame\n",
        "    player_stats = pd.DataFrame({'player_name': [player_name]})\n",
        "    if not passer_stats.empty:\n",
        "        player_stats = player_stats.merge(passer_stats, on='player_name', how='left')\n",
        "    if not rusher_stats.empty:\n",
        "        player_stats = player_stats.merge(rusher_stats, on='player_name', how='left')\n",
        "    if not receiver_stats.empty:\n",
        "        player_stats = player_stats.merge(receiver_stats, on='player_name', how='left')\n",
        "\n",
        "    player_stats.fillna(0, inplace=True)\n",
        "    return player_stats\n",
        "\n",
        "# User interface\n",
        "def main():\n",
        "    full_name = input(\"Enter the player's full name (e.g., Patrick Mahomes): \")\n",
        "    player_name = get_player_abbreviation(full_name)\n",
        "\n",
        "    if not player_name:\n",
        "        print(\"Invalid input. Please provide a full name.\")\n",
        "        return\n",
        "\n",
        "    # Check if the player is ambiguous\n",
        "    if player_name in ambiguous_players:\n",
        "        teams = ambiguous_players[player_name]\n",
        "        print(f\"{full_name} is associated with multiple teams: {', '.join(teams)}\")\n",
        "        team = input(\"Please enter the team initials (e.g., CHI for Chicago Bears): \").upper()\n",
        "        if team not in teams:\n",
        "            print(\"Invalid team initials. Please try again.\")\n",
        "            return\n",
        "    else:\n",
        "        team = None\n",
        "\n",
        "    # Get player stats\n",
        "    player_stats = get_player_stats(pbp_2024, player_name, team)\n",
        "\n",
        "    if player_stats.empty:\n",
        "        print(f\"No stats found for {full_name}. You may have spelled the name wrong or the player does not exist.\")\n",
        "    else:\n",
        "        print(f\"\\nStats for {full_name}:\")\n",
        "        print(player_stats)\n",
        "\n",
        "# Run the program\n",
        "main()\n"
      ]
    },
    {
      "cell_type": "code",
      "execution_count": null,
      "metadata": {
        "colab": {
          "base_uri": "https://localhost:8080/",
          "height": 1000
        },
        "id": "WkPqvV2DoPJ-",
        "outputId": "46d53c33-cbda-4def-cd3d-d7a8a4e1dfe5"
      },
      "outputs": [
        {
          "output_type": "display_data",
          "data": {
            "text/plain": [
              "<Figure size 1000x500 with 1 Axes>"
            ],
            "image/png": "[encoded data removed]"
          },
          "metadata": {}
        },
        {
          "output_type": "display_data",
          "data": {
            "text/plain": [
              "<Figure size 1000x500 with 1 Axes>"
            ],
            "image/png": "[encoded data removed]"
          },
          "metadata": {}
        },
        {
          "output_type": "display_data",
          "data": {
            "text/plain": [
              "<Figure size 1000x500 with 1 Axes>"
            ],
            "image/png": "[encoded data removed]"
          },
          "metadata": {}
        }
      ],
      "source": [
        "import pandas as pd\n",
        "import matplotlib.pyplot as plt\n",
        "import numpy as np\n",
        "\n",
        "\n",
        "data = pd.DataFrame({'player': ['Player A', 'Player B', 'Player C', 'Player D', 'Player E'],'total_passing_yards': [2500, 3000, 3200, 2800, 3100],\n",
        "    'total_rushing_yards': [500, 600, 700, 550, 650], 'total_passing_touchdowns': [20, 25, 22, 24, 26],'team': ['Team X', 'Team Y', 'Team Z', 'Team X', 'Team Y'],\n",
        "    'game_week': [1, 2, 3, 4, 5]\n",
        "})\n",
        "\n",
        "plt.figure(figsize=(10, 5))\n",
        "plt.bar(data['player'], data['total_passing_yards'], alpha=0.7)\n",
        "plt.title('Most Passing Yards by Player')\n",
        "plt.xlabel('Player')\n",
        "plt.ylabel('Total Passing Yards')\n",
        "plt.xticks(rotation=45)\n",
        "plt.tight_layout()\n",
        "plt.show()\n",
        "\n",
        "plt.figure(figsize=(10, 5))\n",
        "for player in data['player'].unique():\n",
        "    player_data = data[data['player'] == player]\n",
        "    plt.plot(player_data['game_week'], player_data['total_passing_touchdowns'], marker='o', label=player)\n",
        "plt.title('Player Performance Over Time (Passing Touchdowns)')\n",
        "plt.xlabel('Game Week')\n",
        "plt.ylabel('Passing Touchdowns')\n",
        "plt.legend()\n",
        "plt.grid(True)\n",
        "plt.tight_layout()\n",
        "plt.show()\n",
        "teams = data.groupby('team')['total_rushing_yards'].sum().reset_index()\n",
        "plt.figure(figsize=(10, 5))\n",
        "plt.bar(teams['team'], teams['total_rushing_yards'], alpha=0.7, color='orange')\n",
        "plt.title('Team Defense Comparison (Rushing Yards Allowed)')\n",
        "plt.xlabel('Team')\n",
        "plt.ylabel('Total Rushing Yards Allowed')\n",
        "plt.xticks(rotation=45)\n",
        "plt.tight_layout()\n",
        "plt.show()\n"
      ]
    },
    {
      "cell_type": "code",
      "execution_count": null,
      "metadata": {
        "id": "rKvilJyMGj_J"
      },
      "outputs": [],
      "source": [
        "\n",
        "\n"
      ]
    },
    {
      "cell_type": "code",
      "execution_count": null,
      "metadata": {
        "colab": {
          "base_uri": "https://localhost:8080/",
          "height": 80
        },
        "id": "c253HsAqDlOE",
        "outputId": "0cd93226-804c-4d6e-fec9-66b024b44ec2"
      },
      "outputs": [
        {
          "output_type": "execute_result",
          "data": {
            "text/plain": [
              "LinearRegression()"
            ],
            "text/html": [
              "<style>#sk-container-id-1 {\n",
              "  /* Definition of color scheme common for light and dark mode */\n",
              "  --sklearn-color-text: #000;\n",
              "  --sklearn-color-text-muted: #666;\n",
              "  --sklearn-color-line: gray;\n",
              "  /* Definition of color scheme for unfitted estimators */\n",
              "  --sklearn-color-unfitted-level-0: #fff5e6;\n",
              "  --sklearn-color-unfitted-level-1: #f6e4d2;\n",
              "  --sklearn-color-unfitted-level-2: #ffe0b3;\n",
              "  --sklearn-color-unfitted-level-3: chocolate;\n",
              "  /* Definition of color scheme for fitted estimators */\n",
              "  --sklearn-color-fitted-level-0: #f0f8ff;\n",
              "  --sklearn-color-fitted-level-1: #d4ebff;\n",
              "  --sklearn-color-fitted-level-2: #b3dbfd;\n",
              "  --sklearn-color-fitted-level-3: cornflowerblue;\n",
              "\n",
              "  /* Specific color for light theme */\n",
              "  --sklearn-color-text-on-default-background: var(--sg-text-color, var(--theme-code-foreground, var(--jp-content-font-color1, black)));\n",
              "  --sklearn-color-background: var(--sg-background-color, var(--theme-background, var(--jp-layout-color0, white)));\n",
              "  --sklearn-color-border-box: var(--sg-text-color, var(--theme-code-foreground, var(--jp-content-font-color1, black)));\n",
              "  --sklearn-color-icon: #696969;\n",
              "\n",
              "  @media (prefers-color-scheme: dark) {\n",
              "    /* Redefinition of color scheme for dark theme */\n",
              "    --sklearn-color-text-on-default-background: var(--sg-text-color, var(--theme-code-foreground, var(--jp-content-font-color1, white)));\n",
              "    --sklearn-color-background: var(--sg-background-color, var(--theme-background, var(--jp-layout-color0, #111)));\n",
              "    --sklearn-color-border-box: var(--sg-text-color, var(--theme-code-foreground, var(--jp-content-font-color1, white)));\n",
              "    --sklearn-color-icon: #878787;\n",
              "  }\n",
              "}\n",
              "\n",
              "#sk-container-id-1 {\n",
              "  color: var(--sklearn-color-text);\n",
              "}\n",
              "\n",
              "#sk-container-id-1 pre {\n",
              "  padding: 0;\n",
              "}\n",
              "\n",
              "#sk-container-id-1 input.sk-hidden--visually {\n",
              "  border: 0;\n",
              "  clip: rect(1px 1px 1px 1px);\n",
              "  clip: rect(1px, 1px, 1px, 1px);\n",
              "  height: 1px;\n",
              "  margin: -1px;\n",
              "  overflow: hidden;\n",
              "  padding: 0;\n",
              "  position: absolute;\n",
              "  width: 1px;\n",
              "}\n",
              "\n",
              "#sk-container-id-1 div.sk-dashed-wrapped {\n",
              "  border: 1px dashed var(--sklearn-color-line);\n",
              "  margin: 0 0.4em 0.5em 0.4em;\n",
              "  box-sizing: border-box;\n",
              "  padding-bottom: 0.4em;\n",
              "  background-color: var(--sklearn-color-background);\n",
              "}\n",
              "\n",
              "#sk-container-id-1 div.sk-container {\n",
              "  /* jupyter's `normalize.less` sets `[hidden] { display: none; }`\n",
              "     but bootstrap.min.css set `[hidden] { display: none !important; }`\n",
              "     so we also need the `!important` here to be able to override the\n",
              "     default hidden behavior on the sphinx rendered scikit-learn.org.\n",
              "     See: https://github.com/scikit-learn/scikit-learn/issues/21755 */\n",
              "  display: inline-block !important;\n",
              "  position: relative;\n",
              "}\n",
              "\n",
              "#sk-container-id-1 div.sk-text-repr-fallback {\n",
              "  display: none;\n",
              "}\n",
              "\n",
              "div.sk-parallel-item,\n",
              "div.sk-serial,\n",
              "div.sk-item {\n",
              "  /* draw centered vertical line to link estimators */\n",
              "  background-image: linear-gradient(var(--sklearn-color-text-on-default-background), var(--sklearn-color-text-on-default-background));\n",
              "  background-size: 2px 100%;\n",
              "  background-repeat: no-repeat;\n",
              "  background-position: center center;\n",
              "}\n",
              "\n",
              "/* Parallel-specific style estimator block */\n",
              "\n",
              "#sk-container-id-1 div.sk-parallel-item::after {\n",
              "  content: \"\";\n",
              "  width: 100%;\n",
              "  border-bottom: 2px solid var(--sklearn-color-text-on-default-background);\n",
              "  flex-grow: 1;\n",
              "}\n",
              "\n",
              "#sk-container-id-1 div.sk-parallel {\n",
              "  display: flex;\n",
              "  align-items: stretch;\n",
              "  justify-content: center;\n",
              "  background-color: var(--sklearn-color-background);\n",
              "  position: relative;\n",
              "}\n",
              "\n",
              "#sk-container-id-1 div.sk-parallel-item {\n",
              "  display: flex;\n",
              "  flex-direction: column;\n",
              "}\n",
              "\n",
              "#sk-container-id-1 div.sk-parallel-item:first-child::after {\n",
              "  align-self: flex-end;\n",
              "  width: 50%;\n",
              "}\n",
              "\n",
              "#sk-container-id-1 div.sk-parallel-item:last-child::after {\n",
              "  align-self: flex-start;\n",
              "  width: 50%;\n",
              "}\n",
              "\n",
              "#sk-container-id-1 div.sk-parallel-item:only-child::after {\n",
              "  width: 0;\n",
              "}\n",
              "\n",
              "/* Serial-specific style estimator block */\n",
              "\n",
              "#sk-container-id-1 div.sk-serial {\n",
              "  display: flex;\n",
              "  flex-direction: column;\n",
              "  align-items: center;\n",
              "  background-color: var(--sklearn-color-background);\n",
              "  padding-right: 1em;\n",
              "  padding-left: 1em;\n",
              "}\n",
              "\n",
              "\n",
              "/* Toggleable style: style used for estimator/Pipeline/ColumnTransformer box that is\n",
              "clickable and can be expanded/collapsed.\n",
              "- Pipeline and ColumnTransformer use this feature and define the default style\n",
              "- Estimators will overwrite some part of the style using the `sk-estimator` class\n",
              "*/\n",
              "\n",
              "/* Pipeline and ColumnTransformer style (default) */\n",
              "\n",
              "#sk-container-id-1 div.sk-toggleable {\n",
              "  /* Default theme specific background. It is overwritten whether we have a\n",
              "  specific estimator or a Pipeline/ColumnTransformer */\n",
              "  background-color: var(--sklearn-color-background);\n",
              "}\n",
              "\n",
              "/* Toggleable label */\n",
              "#sk-container-id-1 label.sk-toggleable__label {\n",
              "  cursor: pointer;\n",
              "  display: flex;\n",
              "  width: 100%;\n",
              "  margin-bottom: 0;\n",
              "  padding: 0.5em;\n",
              "  box-sizing: border-box;\n",
              "  text-align: center;\n",
              "  align-items: start;\n",
              "  justify-content: space-between;\n",
              "  gap: 0.5em;\n",
              "}\n",
              "\n",
              "#sk-container-id-1 label.sk-toggleable__label .caption {\n",
              "  font-size: 0.6rem;\n",
              "  font-weight: lighter;\n",
              "  color: var(--sklearn-color-text-muted);\n",
              "}\n",
              "\n",
              "#sk-container-id-1 label.sk-toggleable__label-arrow:before {\n",
              "  /* Arrow on the left of the label */\n",
              "  content: \"▸\";\n",
              "  float: left;\n",
              "  margin-right: 0.25em;\n",
              "  color: var(--sklearn-color-icon);\n",
              "}\n",
              "\n",
              "#sk-container-id-1 label.sk-toggleable__label-arrow:hover:before {\n",
              "  color: var(--sklearn-color-text);\n",
              "}\n",
              "\n",
              "/* Toggleable content - dropdown */\n",
              "\n",
              "#sk-container-id-1 div.sk-toggleable__content {\n",
              "  max-height: 0;\n",
              "  max-width: 0;\n",
              "  overflow: hidden;\n",
              "  text-align: left;\n",
              "  /* unfitted */\n",
              "  background-color: var(--sklearn-color-unfitted-level-0);\n",
              "}\n",
              "\n",
              "#sk-container-id-1 div.sk-toggleable__content.fitted {\n",
              "  /* fitted */\n",
              "  background-color: var(--sklearn-color-fitted-level-0);\n",
              "}\n",
              "\n",
              "#sk-container-id-1 div.sk-toggleable__content pre {\n",
              "  margin: 0.2em;\n",
              "  border-radius: 0.25em;\n",
              "  color: var(--sklearn-color-text);\n",
              "  /* unfitted */\n",
              "  background-color: var(--sklearn-color-unfitted-level-0);\n",
              "}\n",
              "\n",
              "#sk-container-id-1 div.sk-toggleable__content.fitted pre {\n",
              "  /* unfitted */\n",
              "  background-color: var(--sklearn-color-fitted-level-0);\n",
              "}\n",
              "\n",
              "#sk-container-id-1 input.sk-toggleable__control:checked~div.sk-toggleable__content {\n",
              "  /* Expand drop-down */\n",
              "  max-height: 200px;\n",
              "  max-width: 100%;\n",
              "  overflow: auto;\n",
              "}\n",
              "\n",
              "#sk-container-id-1 input.sk-toggleable__control:checked~label.sk-toggleable__label-arrow:before {\n",
              "  content: \"▾\";\n",
              "}\n",
              "\n",
              "/* Pipeline/ColumnTransformer-specific style */\n",
              "\n",
              "#sk-container-id-1 div.sk-label input.sk-toggleable__control:checked~label.sk-toggleable__label {\n",
              "  color: var(--sklearn-color-text);\n",
              "  background-color: var(--sklearn-color-unfitted-level-2);\n",
              "}\n",
              "\n",
              "#sk-container-id-1 div.sk-label.fitted input.sk-toggleable__control:checked~label.sk-toggleable__label {\n",
              "  background-color: var(--sklearn-color-fitted-level-2);\n",
              "}\n",
              "\n",
              "/* Estimator-specific style */\n",
              "\n",
              "/* Colorize estimator box */\n",
              "#sk-container-id-1 div.sk-estimator input.sk-toggleable__control:checked~label.sk-toggleable__label {\n",
              "  /* unfitted */\n",
              "  background-color: var(--sklearn-color-unfitted-level-2);\n",
              "}\n",
              "\n",
              "#sk-container-id-1 div.sk-estimator.fitted input.sk-toggleable__control:checked~label.sk-toggleable__label {\n",
              "  /* fitted */\n",
              "  background-color: var(--sklearn-color-fitted-level-2);\n",
              "}\n",
              "\n",
              "#sk-container-id-1 div.sk-label label.sk-toggleable__label,\n",
              "#sk-container-id-1 div.sk-label label {\n",
              "  /* The background is the default theme color */\n",
              "  color: var(--sklearn-color-text-on-default-background);\n",
              "}\n",
              "\n",
              "/* On hover, darken the color of the background */\n",
              "#sk-container-id-1 div.sk-label:hover label.sk-toggleable__label {\n",
              "  color: var(--sklearn-color-text);\n",
              "  background-color: var(--sklearn-color-unfitted-level-2);\n",
              "}\n",
              "\n",
              "/* Label box, darken color on hover, fitted */\n",
              "#sk-container-id-1 div.sk-label.fitted:hover label.sk-toggleable__label.fitted {\n",
              "  color: var(--sklearn-color-text);\n",
              "  background-color: var(--sklearn-color-fitted-level-2);\n",
              "}\n",
              "\n",
              "/* Estimator label */\n",
              "\n",
              "#sk-container-id-1 div.sk-label label {\n",
              "  font-family: monospace;\n",
              "  font-weight: bold;\n",
              "  display: inline-block;\n",
              "  line-height: 1.2em;\n",
              "}\n",
              "\n",
              "#sk-container-id-1 div.sk-label-container {\n",
              "  text-align: center;\n",
              "}\n",
              "\n",
              "/* Estimator-specific */\n",
              "#sk-container-id-1 div.sk-estimator {\n",
              "  font-family: monospace;\n",
              "  border: 1px dotted var(--sklearn-color-border-box);\n",
              "  border-radius: 0.25em;\n",
              "  box-sizing: border-box;\n",
              "  margin-bottom: 0.5em;\n",
              "  /* unfitted */\n",
              "  background-color: var(--sklearn-color-unfitted-level-0);\n",
              "}\n",
              "\n",
              "#sk-container-id-1 div.sk-estimator.fitted {\n",
              "  /* fitted */\n",
              "  background-color: var(--sklearn-color-fitted-level-0);\n",
              "}\n",
              "\n",
              "/* on hover */\n",
              "#sk-container-id-1 div.sk-estimator:hover {\n",
              "  /* unfitted */\n",
              "  background-color: var(--sklearn-color-unfitted-level-2);\n",
              "}\n",
              "\n",
              "#sk-container-id-1 div.sk-estimator.fitted:hover {\n",
              "  /* fitted */\n",
              "  background-color: var(--sklearn-color-fitted-level-2);\n",
              "}\n",
              "\n",
              "/* Specification for estimator info (e.g. \"i\" and \"?\") */\n",
              "\n",
              "/* Common style for \"i\" and \"?\" */\n",
              "\n",
              ".sk-estimator-doc-link,\n",
              "a:link.sk-estimator-doc-link,\n",
              "a:visited.sk-estimator-doc-link {\n",
              "  float: right;\n",
              "  font-size: smaller;\n",
              "  line-height: 1em;\n",
              "  font-family: monospace;\n",
              "  background-color: var(--sklearn-color-background);\n",
              "  border-radius: 1em;\n",
              "  height: 1em;\n",
              "  width: 1em;\n",
              "  text-decoration: none !important;\n",
              "  margin-left: 0.5em;\n",
              "  text-align: center;\n",
              "  /* unfitted */\n",
              "  border: var(--sklearn-color-unfitted-level-1) 1pt solid;\n",
              "  color: var(--sklearn-color-unfitted-level-1);\n",
              "}\n",
              "\n",
              ".sk-estimator-doc-link.fitted,\n",
              "a:link.sk-estimator-doc-link.fitted,\n",
              "a:visited.sk-estimator-doc-link.fitted {\n",
              "  /* fitted */\n",
              "  border: var(--sklearn-color-fitted-level-1) 1pt solid;\n",
              "  color: var(--sklearn-color-fitted-level-1);\n",
              "}\n",
              "\n",
              "/* On hover */\n",
              "div.sk-estimator:hover .sk-estimator-doc-link:hover,\n",
              ".sk-estimator-doc-link:hover,\n",
              "div.sk-label-container:hover .sk-estimator-doc-link:hover,\n",
              ".sk-estimator-doc-link:hover {\n",
              "  /* unfitted */\n",
              "  background-color: var(--sklearn-color-unfitted-level-3);\n",
              "  color: var(--sklearn-color-background);\n",
              "  text-decoration: none;\n",
              "}\n",
              "\n",
              "div.sk-estimator.fitted:hover .sk-estimator-doc-link.fitted:hover,\n",
              ".sk-estimator-doc-link.fitted:hover,\n",
              "div.sk-label-container:hover .sk-estimator-doc-link.fitted:hover,\n",
              ".sk-estimator-doc-link.fitted:hover {\n",
              "  /* fitted */\n",
              "  background-color: var(--sklearn-color-fitted-level-3);\n",
              "  color: var(--sklearn-color-background);\n",
              "  text-decoration: none;\n",
              "}\n",
              "\n",
              "/* Span, style for the box shown on hovering the info icon */\n",
              ".sk-estimator-doc-link span {\n",
              "  display: none;\n",
              "  z-index: 9999;\n",
              "  position: relative;\n",
              "  font-weight: normal;\n",
              "  right: .2ex;\n",
              "  padding: .5ex;\n",
              "  margin: .5ex;\n",
              "  width: min-content;\n",
              "  min-width: 20ex;\n",
              "  max-width: 50ex;\n",
              "  color: var(--sklearn-color-text);\n",
              "  box-shadow: 2pt 2pt 4pt #999;\n",
              "  /* unfitted */\n",
              "  background: var(--sklearn-color-unfitted-level-0);\n",
              "  border: .5pt solid var(--sklearn-color-unfitted-level-3);\n",
              "}\n",
              "\n",
              ".sk-estimator-doc-link.fitted span {\n",
              "  /* fitted */\n",
              "  background: var(--sklearn-color-fitted-level-0);\n",
              "  border: var(--sklearn-color-fitted-level-3);\n",
              "}\n",
              "\n",
              ".sk-estimator-doc-link:hover span {\n",
              "  display: block;\n",
              "}\n",
              "\n",
              "/* \"?\"-specific style due to the `<a>` HTML tag */\n",
              "\n",
              "#sk-container-id-1 a.estimator_doc_link {\n",
              "  float: right;\n",
              "  font-size: 1rem;\n",
              "  line-height: 1em;\n",
              "  font-family: monospace;\n",
              "  background-color: var(--sklearn-color-background);\n",
              "  border-radius: 1rem;\n",
              "  height: 1rem;\n",
              "  width: 1rem;\n",
              "  text-decoration: none;\n",
              "  /* unfitted */\n",
              "  color: var(--sklearn-color-unfitted-level-1);\n",
              "  border: var(--sklearn-color-unfitted-level-1) 1pt solid;\n",
              "}\n",
              "\n",
              "#sk-container-id-1 a.estimator_doc_link.fitted {\n",
              "  /* fitted */\n",
              "  border: var(--sklearn-color-fitted-level-1) 1pt solid;\n",
              "  color: var(--sklearn-color-fitted-level-1);\n",
              "}\n",
              "\n",
              "/* On hover */\n",
              "#sk-container-id-1 a.estimator_doc_link:hover {\n",
              "  /* unfitted */\n",
              "  background-color: var(--sklearn-color-unfitted-level-3);\n",
              "  color: var(--sklearn-color-background);\n",
              "  text-decoration: none;\n",
              "}\n",
              "\n",
              "#sk-container-id-1 a.estimator_doc_link.fitted:hover {\n",
              "  /* fitted */\n",
              "  background-color: var(--sklearn-color-fitted-level-3);\n",
              "}\n",
              "</style><div id=\"sk-container-id-1\" class=\"sk-top-container\"><div class=\"sk-text-repr-fallback\"><pre>LinearRegression()</pre><b>In a Jupyter environment, please rerun this cell to show the HTML representation or trust the notebook. <br />On GitHub, the HTML representation is unable to render, please try loading this page with nbviewer.org.</b></div><div class=\"sk-container\" hidden><div class=\"sk-item\"><div class=\"sk-estimator fitted sk-toggleable\"><input class=\"sk-toggleable__control sk-hidden--visually\" id=\"sk-estimator-id-1\" type=\"checkbox\" checked><label for=\"sk-estimator-id-1\" class=\"sk-toggleable__label fitted sk-toggleable__label-arrow\"><div><div>LinearRegression</div></div><div><a class=\"sk-estimator-doc-link fitted\" rel=\"noreferrer\" target=\"_blank\" href=\"https://scikit-learn.org/1.6/modules/generated/sklearn.linear_model.LinearRegression.html\">?<span>Documentation for LinearRegression</span></a><span class=\"sk-estimator-doc-link fitted\">i<span>Fitted</span></span></div></label><div class=\"sk-toggleable__content fitted\"><pre>LinearRegression()</pre></div> </div></div></div></div>"
            ]
          },
          "metadata": {},
          "execution_count": 22
        }
      ],
      "source": [
        "from sklearn import datasets\n",
        "from sklearn import model_selection\n",
        "from sklearn import linear_model\n",
        "\n",
        "\n",
        "# Split the data into training and testing data for regression\n",
        "epa_x = epa_all_years[['rush_epa']]\n",
        "epa_y = epa_all_years[['pass_epa']]\n",
        "\n",
        "epa_x_train, epa_x_test, epa_y_train, epa_y_test = model_selection.train_test_split(epa_x, epa_y, train_size=0.5)\n",
        "\n",
        "# Fitting linear regression model with pass_epa as response and rush_epa as predictor\n",
        "model = linear_model.LinearRegression()\n",
        "model.fit(epa_x_train, epa_y_train)"
      ]
    },
    {
      "cell_type": "code",
      "execution_count": null,
      "metadata": {
        "colab": {
          "base_uri": "https://localhost:8080/",
          "height": 115
        },
        "id": "nMswDfkGUykX",
        "outputId": "5a3e6ee5-8386-43e8-bb43-12206fc37799"
      },
      "outputs": [
        {
          "output_type": "execute_result",
          "data": {
            "text/plain": [
              "pass_epa    0.440254\n",
              "dtype: float32"
            ],
            "text/html": [
              "<div>\n",
              "<style scoped>\n",
              "    .dataframe tbody tr th:only-of-type {\n",
              "        vertical-align: middle;\n",
              "    }\n",
              "\n",
              "    .dataframe tbody tr th {\n",
              "        vertical-align: top;\n",
              "    }\n",
              "\n",
              "    .dataframe thead th {\n",
              "        text-align: right;\n",
              "    }\n",
              "</style>\n",
              "<table border=\"1\" class=\"dataframe\">\n",
              "  <thead>\n",
              "    <tr style=\"text-align: right;\">\n",
              "      <th></th>\n",
              "      <th>0</th>\n",
              "    </tr>\n",
              "  </thead>\n",
              "  <tbody>\n",
              "    <tr>\n",
              "      <th>pass_epa</th>\n",
              "      <td>0.440254</td>\n",
              "    </tr>\n",
              "  </tbody>\n",
              "</table>\n",
              "</div><br><label><b>dtype:</b> float32</label>"
            ]
          },
          "metadata": {},
          "execution_count": 23
        }
      ],
      "source": [
        "# For computing sum of squared errors\n",
        "def sse(resid):\n",
        "    return np.sum(resid**2)\n",
        "\n",
        "# SSE for training data\n",
        "pass_resid_train = epa_y_train - model.predict(epa_x_train)\n",
        "pass_sse_train = sse(pass_resid_train)\n",
        "pass_sse_train\n"
      ]
    },
    {
      "cell_type": "code",
      "execution_count": null,
      "metadata": {
        "colab": {
          "base_uri": "https://localhost:8080/",
          "height": 115
        },
        "id": "NnQm4I5XlpP7",
        "outputId": "7b2d36a5-be93-4e9f-d62b-cd736c86572d"
      },
      "outputs": [
        {
          "output_type": "execute_result",
          "data": {
            "text/plain": [
              "pass_epa    0.659725\n",
              "dtype: float32"
            ],
            "text/html": [
              "<div>\n",
              "<style scoped>\n",
              "    .dataframe tbody tr th:only-of-type {\n",
              "        vertical-align: middle;\n",
              "    }\n",
              "\n",
              "    .dataframe tbody tr th {\n",
              "        vertical-align: top;\n",
              "    }\n",
              "\n",
              "    .dataframe thead th {\n",
              "        text-align: right;\n",
              "    }\n",
              "</style>\n",
              "<table border=\"1\" class=\"dataframe\">\n",
              "  <thead>\n",
              "    <tr style=\"text-align: right;\">\n",
              "      <th></th>\n",
              "      <th>0</th>\n",
              "    </tr>\n",
              "  </thead>\n",
              "  <tbody>\n",
              "    <tr>\n",
              "      <th>pass_epa</th>\n",
              "      <td>0.659725</td>\n",
              "    </tr>\n",
              "  </tbody>\n",
              "</table>\n",
              "</div><br><label><b>dtype:</b> float32</label>"
            ]
          },
          "metadata": {},
          "execution_count": 24
        }
      ],
      "source": [
        "# SSE for testing data\n",
        "pass_resid_test = epa_y_test - model.predict(epa_x_test)\n",
        "pass_sse_test = sse(pass_resid_test)\n",
        "pass_sse_test"
      ]
    },
    {
      "cell_type": "code",
      "execution_count": null,
      "metadata": {
        "colab": {
          "base_uri": "https://localhost:8080/"
        },
        "id": "7I4lzhj4n-k-",
        "outputId": "54f0d099-c9ed-4619-c917-e39529f3cefc"
      },
      "outputs": [
        {
          "output_type": "execute_result",
          "data": {
            "text/plain": [
              "0.12124162912368774"
            ]
          },
          "metadata": {},
          "execution_count": 25
        }
      ],
      "source": [
        "# Computing r-squared for training data\n",
        "model.score(epa_x_train, epa_y_train)"
      ]
    },
    {
      "cell_type": "code",
      "execution_count": null,
      "metadata": {
        "colab": {
          "base_uri": "https://localhost:8080/"
        },
        "id": "9Ps7g3RvpObu",
        "outputId": "96754c1a-02f3-45df-e63a-6fc894eb0c7e"
      },
      "outputs": [
        {
          "output_type": "execute_result",
          "data": {
            "text/plain": [
              "0.20834267139434814"
            ]
          },
          "metadata": {},
          "execution_count": 26
        }
      ],
      "source": [
        "# Computing r-squared for testing data\n",
        "model.score(epa_x_test, epa_y_test)"
      ]
    },
    {
      "cell_type": "code",
      "execution_count": null,
      "metadata": {
        "colab": {
          "base_uri": "https://localhost:8080/",
          "height": 288
        },
        "id": "3AGhHlI9qhX8",
        "outputId": "6b7fddcd-cdef-4002-e948-c4b4f4876daa"
      },
      "outputs": [
        {
          "output_type": "display_data",
          "data": {
            "text/plain": [
              "<Figure size 1200x300 with 2 Axes>"
            ],
            "image/png": "[encoded data removed]"
          },
          "metadata": {}
        }
      ],
      "source": [
        "# Function for plotting residuals\n",
        "def plot_residualsP_and_coeff(resid_train, resid_test, coeff):\n",
        "    fig, axes = plt.subplots(1, 2, figsize=(12, 3))\n",
        "    axes[0].bar(np.arange(len(resid_train)), resid_train['pass_epa'].values)\n",
        "    axes[0].set_xlabel(\"sample number\")\n",
        "    axes[0].set_ylabel(\"residual\")\n",
        "    axes[0].set_title(\"training data\")\n",
        "    axes[1].bar(np.arange(len(resid_test)), resid_test['pass_epa'].values)\n",
        "    axes[1].set_xlabel(\"sample number\")\n",
        "    axes[1].set_ylabel(\"residual\")\n",
        "    axes[1].set_title(\"testing data\")\n",
        "    fig.tight_layout()\n",
        "    return fig, axes\n",
        "\n",
        "fig, ax = plot_residualsP_and_coeff(pass_resid_train, pass_resid_test, model.coef_)"
      ]
    },
    {
      "cell_type": "code",
      "execution_count": null,
      "metadata": {
        "colab": {
          "base_uri": "https://localhost:8080/",
          "height": 80
        },
        "id": "_2JkG55EGHZK",
        "outputId": "53ae82f2-5e4c-45de-830c-829a57eef7b6"
      },
      "outputs": [
        {
          "output_type": "execute_result",
          "data": {
            "text/plain": [
              "LinearRegression()"
            ],
            "text/html": [
              "<style>#sk-container-id-2 {\n",
              "  /* Definition of color scheme common for light and dark mode */\n",
              "  --sklearn-color-text: #000;\n",
              "  --sklearn-color-text-muted: #666;\n",
              "  --sklearn-color-line: gray;\n",
              "  /* Definition of color scheme for unfitted estimators */\n",
              "  --sklearn-color-unfitted-level-0: #fff5e6;\n",
              "  --sklearn-color-unfitted-level-1: #f6e4d2;\n",
              "  --sklearn-color-unfitted-level-2: #ffe0b3;\n",
              "  --sklearn-color-unfitted-level-3: chocolate;\n",
              "  /* Definition of color scheme for fitted estimators */\n",
              "  --sklearn-color-fitted-level-0: #f0f8ff;\n",
              "  --sklearn-color-fitted-level-1: #d4ebff;\n",
              "  --sklearn-color-fitted-level-2: #b3dbfd;\n",
              "  --sklearn-color-fitted-level-3: cornflowerblue;\n",
              "\n",
              "  /* Specific color for light theme */\n",
              "  --sklearn-color-text-on-default-background: var(--sg-text-color, var(--theme-code-foreground, var(--jp-content-font-color1, black)));\n",
              "  --sklearn-color-background: var(--sg-background-color, var(--theme-background, var(--jp-layout-color0, white)));\n",
              "  --sklearn-color-border-box: var(--sg-text-color, var(--theme-code-foreground, var(--jp-content-font-color1, black)));\n",
              "  --sklearn-color-icon: #696969;\n",
              "\n",
              "  @media (prefers-color-scheme: dark) {\n",
              "    /* Redefinition of color scheme for dark theme */\n",
              "    --sklearn-color-text-on-default-background: var(--sg-text-color, var(--theme-code-foreground, var(--jp-content-font-color1, white)));\n",
              "    --sklearn-color-background: var(--sg-background-color, var(--theme-background, var(--jp-layout-color0, #111)));\n",
              "    --sklearn-color-border-box: var(--sg-text-color, var(--theme-code-foreground, var(--jp-content-font-color1, white)));\n",
              "    --sklearn-color-icon: #878787;\n",
              "  }\n",
              "}\n",
              "\n",
              "#sk-container-id-2 {\n",
              "  color: var(--sklearn-color-text);\n",
              "}\n",
              "\n",
              "#sk-container-id-2 pre {\n",
              "  padding: 0;\n",
              "}\n",
              "\n",
              "#sk-container-id-2 input.sk-hidden--visually {\n",
              "  border: 0;\n",
              "  clip: rect(1px 1px 1px 1px);\n",
              "  clip: rect(1px, 1px, 1px, 1px);\n",
              "  height: 1px;\n",
              "  margin: -1px;\n",
              "  overflow: hidden;\n",
              "  padding: 0;\n",
              "  position: absolute;\n",
              "  width: 1px;\n",
              "}\n",
              "\n",
              "#sk-container-id-2 div.sk-dashed-wrapped {\n",
              "  border: 1px dashed var(--sklearn-color-line);\n",
              "  margin: 0 0.4em 0.5em 0.4em;\n",
              "  box-sizing: border-box;\n",
              "  padding-bottom: 0.4em;\n",
              "  background-color: var(--sklearn-color-background);\n",
              "}\n",
              "\n",
              "#sk-container-id-2 div.sk-container {\n",
              "  /* jupyter's `normalize.less` sets `[hidden] { display: none; }`\n",
              "     but bootstrap.min.css set `[hidden] { display: none !important; }`\n",
              "     so we also need the `!important` here to be able to override the\n",
              "     default hidden behavior on the sphinx rendered scikit-learn.org.\n",
              "     See: https://github.com/scikit-learn/scikit-learn/issues/21755 */\n",
              "  display: inline-block !important;\n",
              "  position: relative;\n",
              "}\n",
              "\n",
              "#sk-container-id-2 div.sk-text-repr-fallback {\n",
              "  display: none;\n",
              "}\n",
              "\n",
              "div.sk-parallel-item,\n",
              "div.sk-serial,\n",
              "div.sk-item {\n",
              "  /* draw centered vertical line to link estimators */\n",
              "  background-image: linear-gradient(var(--sklearn-color-text-on-default-background), var(--sklearn-color-text-on-default-background));\n",
              "  background-size: 2px 100%;\n",
              "  background-repeat: no-repeat;\n",
              "  background-position: center center;\n",
              "}\n",
              "\n",
              "/* Parallel-specific style estimator block */\n",
              "\n",
              "#sk-container-id-2 div.sk-parallel-item::after {\n",
              "  content: \"\";\n",
              "  width: 100%;\n",
              "  border-bottom: 2px solid var(--sklearn-color-text-on-default-background);\n",
              "  flex-grow: 1;\n",
              "}\n",
              "\n",
              "#sk-container-id-2 div.sk-parallel {\n",
              "  display: flex;\n",
              "  align-items: stretch;\n",
              "  justify-content: center;\n",
              "  background-color: var(--sklearn-color-background);\n",
              "  position: relative;\n",
              "}\n",
              "\n",
              "#sk-container-id-2 div.sk-parallel-item {\n",
              "  display: flex;\n",
              "  flex-direction: column;\n",
              "}\n",
              "\n",
              "#sk-container-id-2 div.sk-parallel-item:first-child::after {\n",
              "  align-self: flex-end;\n",
              "  width: 50%;\n",
              "}\n",
              "\n",
              "#sk-container-id-2 div.sk-parallel-item:last-child::after {\n",
              "  align-self: flex-start;\n",
              "  width: 50%;\n",
              "}\n",
              "\n",
              "#sk-container-id-2 div.sk-parallel-item:only-child::after {\n",
              "  width: 0;\n",
              "}\n",
              "\n",
              "/* Serial-specific style estimator block */\n",
              "\n",
              "#sk-container-id-2 div.sk-serial {\n",
              "  display: flex;\n",
              "  flex-direction: column;\n",
              "  align-items: center;\n",
              "  background-color: var(--sklearn-color-background);\n",
              "  padding-right: 1em;\n",
              "  padding-left: 1em;\n",
              "}\n",
              "\n",
              "\n",
              "/* Toggleable style: style used for estimator/Pipeline/ColumnTransformer box that is\n",
              "clickable and can be expanded/collapsed.\n",
              "- Pipeline and ColumnTransformer use this feature and define the default style\n",
              "- Estimators will overwrite some part of the style using the `sk-estimator` class\n",
              "*/\n",
              "\n",
              "/* Pipeline and ColumnTransformer style (default) */\n",
              "\n",
              "#sk-container-id-2 div.sk-toggleable {\n",
              "  /* Default theme specific background. It is overwritten whether we have a\n",
              "  specific estimator or a Pipeline/ColumnTransformer */\n",
              "  background-color: var(--sklearn-color-background);\n",
              "}\n",
              "\n",
              "/* Toggleable label */\n",
              "#sk-container-id-2 label.sk-toggleable__label {\n",
              "  cursor: pointer;\n",
              "  display: flex;\n",
              "  width: 100%;\n",
              "  margin-bottom: 0;\n",
              "  padding: 0.5em;\n",
              "  box-sizing: border-box;\n",
              "  text-align: center;\n",
              "  align-items: start;\n",
              "  justify-content: space-between;\n",
              "  gap: 0.5em;\n",
              "}\n",
              "\n",
              "#sk-container-id-2 label.sk-toggleable__label .caption {\n",
              "  font-size: 0.6rem;\n",
              "  font-weight: lighter;\n",
              "  color: var(--sklearn-color-text-muted);\n",
              "}\n",
              "\n",
              "#sk-container-id-2 label.sk-toggleable__label-arrow:before {\n",
              "  /* Arrow on the left of the label */\n",
              "  content: \"▸\";\n",
              "  float: left;\n",
              "  margin-right: 0.25em;\n",
              "  color: var(--sklearn-color-icon);\n",
              "}\n",
              "\n",
              "#sk-container-id-2 label.sk-toggleable__label-arrow:hover:before {\n",
              "  color: var(--sklearn-color-text);\n",
              "}\n",
              "\n",
              "/* Toggleable content - dropdown */\n",
              "\n",
              "#sk-container-id-2 div.sk-toggleable__content {\n",
              "  max-height: 0;\n",
              "  max-width: 0;\n",
              "  overflow: hidden;\n",
              "  text-align: left;\n",
              "  /* unfitted */\n",
              "  background-color: var(--sklearn-color-unfitted-level-0);\n",
              "}\n",
              "\n",
              "#sk-container-id-2 div.sk-toggleable__content.fitted {\n",
              "  /* fitted */\n",
              "  background-color: var(--sklearn-color-fitted-level-0);\n",
              "}\n",
              "\n",
              "#sk-container-id-2 div.sk-toggleable__content pre {\n",
              "  margin: 0.2em;\n",
              "  border-radius: 0.25em;\n",
              "  color: var(--sklearn-color-text);\n",
              "  /* unfitted */\n",
              "  background-color: var(--sklearn-color-unfitted-level-0);\n",
              "}\n",
              "\n",
              "#sk-container-id-2 div.sk-toggleable__content.fitted pre {\n",
              "  /* unfitted */\n",
              "  background-color: var(--sklearn-color-fitted-level-0);\n",
              "}\n",
              "\n",
              "#sk-container-id-2 input.sk-toggleable__control:checked~div.sk-toggleable__content {\n",
              "  /* Expand drop-down */\n",
              "  max-height: 200px;\n",
              "  max-width: 100%;\n",
              "  overflow: auto;\n",
              "}\n",
              "\n",
              "#sk-container-id-2 input.sk-toggleable__control:checked~label.sk-toggleable__label-arrow:before {\n",
              "  content: \"▾\";\n",
              "}\n",
              "\n",
              "/* Pipeline/ColumnTransformer-specific style */\n",
              "\n",
              "#sk-container-id-2 div.sk-label input.sk-toggleable__control:checked~label.sk-toggleable__label {\n",
              "  color: var(--sklearn-color-text);\n",
              "  background-color: var(--sklearn-color-unfitted-level-2);\n",
              "}\n",
              "\n",
              "#sk-container-id-2 div.sk-label.fitted input.sk-toggleable__control:checked~label.sk-toggleable__label {\n",
              "  background-color: var(--sklearn-color-fitted-level-2);\n",
              "}\n",
              "\n",
              "/* Estimator-specific style */\n",
              "\n",
              "/* Colorize estimator box */\n",
              "#sk-container-id-2 div.sk-estimator input.sk-toggleable__control:checked~label.sk-toggleable__label {\n",
              "  /* unfitted */\n",
              "  background-color: var(--sklearn-color-unfitted-level-2);\n",
              "}\n",
              "\n",
              "#sk-container-id-2 div.sk-estimator.fitted input.sk-toggleable__control:checked~label.sk-toggleable__label {\n",
              "  /* fitted */\n",
              "  background-color: var(--sklearn-color-fitted-level-2);\n",
              "}\n",
              "\n",
              "#sk-container-id-2 div.sk-label label.sk-toggleable__label,\n",
              "#sk-container-id-2 div.sk-label label {\n",
              "  /* The background is the default theme color */\n",
              "  color: var(--sklearn-color-text-on-default-background);\n",
              "}\n",
              "\n",
              "/* On hover, darken the color of the background */\n",
              "#sk-container-id-2 div.sk-label:hover label.sk-toggleable__label {\n",
              "  color: var(--sklearn-color-text);\n",
              "  background-color: var(--sklearn-color-unfitted-level-2);\n",
              "}\n",
              "\n",
              "/* Label box, darken color on hover, fitted */\n",
              "#sk-container-id-2 div.sk-label.fitted:hover label.sk-toggleable__label.fitted {\n",
              "  color: var(--sklearn-color-text);\n",
              "  background-color: var(--sklearn-color-fitted-level-2);\n",
              "}\n",
              "\n",
              "/* Estimator label */\n",
              "\n",
              "#sk-container-id-2 div.sk-label label {\n",
              "  font-family: monospace;\n",
              "  font-weight: bold;\n",
              "  display: inline-block;\n",
              "  line-height: 1.2em;\n",
              "}\n",
              "\n",
              "#sk-container-id-2 div.sk-label-container {\n",
              "  text-align: center;\n",
              "}\n",
              "\n",
              "/* Estimator-specific */\n",
              "#sk-container-id-2 div.sk-estimator {\n",
              "  font-family: monospace;\n",
              "  border: 1px dotted var(--sklearn-color-border-box);\n",
              "  border-radius: 0.25em;\n",
              "  box-sizing: border-box;\n",
              "  margin-bottom: 0.5em;\n",
              "  /* unfitted */\n",
              "  background-color: var(--sklearn-color-unfitted-level-0);\n",
              "}\n",
              "\n",
              "#sk-container-id-2 div.sk-estimator.fitted {\n",
              "  /* fitted */\n",
              "  background-color: var(--sklearn-color-fitted-level-0);\n",
              "}\n",
              "\n",
              "/* on hover */\n",
              "#sk-container-id-2 div.sk-estimator:hover {\n",
              "  /* unfitted */\n",
              "  background-color: var(--sklearn-color-unfitted-level-2);\n",
              "}\n",
              "\n",
              "#sk-container-id-2 div.sk-estimator.fitted:hover {\n",
              "  /* fitted */\n",
              "  background-color: var(--sklearn-color-fitted-level-2);\n",
              "}\n",
              "\n",
              "/* Specification for estimator info (e.g. \"i\" and \"?\") */\n",
              "\n",
              "/* Common style for \"i\" and \"?\" */\n",
              "\n",
              ".sk-estimator-doc-link,\n",
              "a:link.sk-estimator-doc-link,\n",
              "a:visited.sk-estimator-doc-link {\n",
              "  float: right;\n",
              "  font-size: smaller;\n",
              "  line-height: 1em;\n",
              "  font-family: monospace;\n",
              "  background-color: var(--sklearn-color-background);\n",
              "  border-radius: 1em;\n",
              "  height: 1em;\n",
              "  width: 1em;\n",
              "  text-decoration: none !important;\n",
              "  margin-left: 0.5em;\n",
              "  text-align: center;\n",
              "  /* unfitted */\n",
              "  border: var(--sklearn-color-unfitted-level-1) 1pt solid;\n",
              "  color: var(--sklearn-color-unfitted-level-1);\n",
              "}\n",
              "\n",
              ".sk-estimator-doc-link.fitted,\n",
              "a:link.sk-estimator-doc-link.fitted,\n",
              "a:visited.sk-estimator-doc-link.fitted {\n",
              "  /* fitted */\n",
              "  border: var(--sklearn-color-fitted-level-1) 1pt solid;\n",
              "  color: var(--sklearn-color-fitted-level-1);\n",
              "}\n",
              "\n",
              "/* On hover */\n",
              "div.sk-estimator:hover .sk-estimator-doc-link:hover,\n",
              ".sk-estimator-doc-link:hover,\n",
              "div.sk-label-container:hover .sk-estimator-doc-link:hover,\n",
              ".sk-estimator-doc-link:hover {\n",
              "  /* unfitted */\n",
              "  background-color: var(--sklearn-color-unfitted-level-3);\n",
              "  color: var(--sklearn-color-background);\n",
              "  text-decoration: none;\n",
              "}\n",
              "\n",
              "div.sk-estimator.fitted:hover .sk-estimator-doc-link.fitted:hover,\n",
              ".sk-estimator-doc-link.fitted:hover,\n",
              "div.sk-label-container:hover .sk-estimator-doc-link.fitted:hover,\n",
              ".sk-estimator-doc-link.fitted:hover {\n",
              "  /* fitted */\n",
              "  background-color: var(--sklearn-color-fitted-level-3);\n",
              "  color: var(--sklearn-color-background);\n",
              "  text-decoration: none;\n",
              "}\n",
              "\n",
              "/* Span, style for the box shown on hovering the info icon */\n",
              ".sk-estimator-doc-link span {\n",
              "  display: none;\n",
              "  z-index: 9999;\n",
              "  position: relative;\n",
              "  font-weight: normal;\n",
              "  right: .2ex;\n",
              "  padding: .5ex;\n",
              "  margin: .5ex;\n",
              "  width: min-content;\n",
              "  min-width: 20ex;\n",
              "  max-width: 50ex;\n",
              "  color: var(--sklearn-color-text);\n",
              "  box-shadow: 2pt 2pt 4pt #999;\n",
              "  /* unfitted */\n",
              "  background: var(--sklearn-color-unfitted-level-0);\n",
              "  border: .5pt solid var(--sklearn-color-unfitted-level-3);\n",
              "}\n",
              "\n",
              ".sk-estimator-doc-link.fitted span {\n",
              "  /* fitted */\n",
              "  background: var(--sklearn-color-fitted-level-0);\n",
              "  border: var(--sklearn-color-fitted-level-3);\n",
              "}\n",
              "\n",
              ".sk-estimator-doc-link:hover span {\n",
              "  display: block;\n",
              "}\n",
              "\n",
              "/* \"?\"-specific style due to the `<a>` HTML tag */\n",
              "\n",
              "#sk-container-id-2 a.estimator_doc_link {\n",
              "  float: right;\n",
              "  font-size: 1rem;\n",
              "  line-height: 1em;\n",
              "  font-family: monospace;\n",
              "  background-color: var(--sklearn-color-background);\n",
              "  border-radius: 1rem;\n",
              "  height: 1rem;\n",
              "  width: 1rem;\n",
              "  text-decoration: none;\n",
              "  /* unfitted */\n",
              "  color: var(--sklearn-color-unfitted-level-1);\n",
              "  border: var(--sklearn-color-unfitted-level-1) 1pt solid;\n",
              "}\n",
              "\n",
              "#sk-container-id-2 a.estimator_doc_link.fitted {\n",
              "  /* fitted */\n",
              "  border: var(--sklearn-color-fitted-level-1) 1pt solid;\n",
              "  color: var(--sklearn-color-fitted-level-1);\n",
              "}\n",
              "\n",
              "/* On hover */\n",
              "#sk-container-id-2 a.estimator_doc_link:hover {\n",
              "  /* unfitted */\n",
              "  background-color: var(--sklearn-color-unfitted-level-3);\n",
              "  color: var(--sklearn-color-background);\n",
              "  text-decoration: none;\n",
              "}\n",
              "\n",
              "#sk-container-id-2 a.estimator_doc_link.fitted:hover {\n",
              "  /* fitted */\n",
              "  background-color: var(--sklearn-color-fitted-level-3);\n",
              "}\n",
              "</style><div id=\"sk-container-id-2\" class=\"sk-top-container\"><div class=\"sk-text-repr-fallback\"><pre>LinearRegression()</pre><b>In a Jupyter environment, please rerun this cell to show the HTML representation or trust the notebook. <br />On GitHub, the HTML representation is unable to render, please try loading this page with nbviewer.org.</b></div><div class=\"sk-container\" hidden><div class=\"sk-item\"><div class=\"sk-estimator fitted sk-toggleable\"><input class=\"sk-toggleable__control sk-hidden--visually\" id=\"sk-estimator-id-2\" type=\"checkbox\" checked><label for=\"sk-estimator-id-2\" class=\"sk-toggleable__label fitted sk-toggleable__label-arrow\"><div><div>LinearRegression</div></div><div><a class=\"sk-estimator-doc-link fitted\" rel=\"noreferrer\" target=\"_blank\" href=\"https://scikit-learn.org/1.6/modules/generated/sklearn.linear_model.LinearRegression.html\">?<span>Documentation for LinearRegression</span></a><span class=\"sk-estimator-doc-link fitted\">i<span>Fitted</span></span></div></label><div class=\"sk-toggleable__content fitted\"><pre>LinearRegression()</pre></div> </div></div></div></div>"
            ]
          },
          "metadata": {},
          "execution_count": 28
        }
      ],
      "source": [
        "# Setting up a model with pass as predictor and rush as response\n",
        "epa_x2 = epa_all_years[['pass_epa']]\n",
        "epa_y2 = epa_all_years[['rush_epa']]\n",
        "\n",
        "epa_x2_train, epa_x2_test, epa_y2_train, epa_y2_test = model_selection.train_test_split(epa_x2, epa_y2, train_size=0.5)\n",
        "\n",
        "model = linear_model.LinearRegression()\n",
        "model.fit(epa_x2_train, epa_y2_train)"
      ]
    },
    {
      "cell_type": "code",
      "execution_count": null,
      "metadata": {
        "colab": {
          "base_uri": "https://localhost:8080/",
          "height": 115
        },
        "id": "OxlG9Dc48tC6",
        "outputId": "4c2db79a-4800-485c-c014-4c2615f4b888"
      },
      "outputs": [
        {
          "output_type": "execute_result",
          "data": {
            "text/plain": [
              "rush_epa    0.181686\n",
              "dtype: float32"
            ],
            "text/html": [
              "<div>\n",
              "<style scoped>\n",
              "    .dataframe tbody tr th:only-of-type {\n",
              "        vertical-align: middle;\n",
              "    }\n",
              "\n",
              "    .dataframe tbody tr th {\n",
              "        vertical-align: top;\n",
              "    }\n",
              "\n",
              "    .dataframe thead th {\n",
              "        text-align: right;\n",
              "    }\n",
              "</style>\n",
              "<table border=\"1\" class=\"dataframe\">\n",
              "  <thead>\n",
              "    <tr style=\"text-align: right;\">\n",
              "      <th></th>\n",
              "      <th>0</th>\n",
              "    </tr>\n",
              "  </thead>\n",
              "  <tbody>\n",
              "    <tr>\n",
              "      <th>rush_epa</th>\n",
              "      <td>0.181686</td>\n",
              "    </tr>\n",
              "  </tbody>\n",
              "</table>\n",
              "</div><br><label><b>dtype:</b> float32</label>"
            ]
          },
          "metadata": {},
          "execution_count": 29
        }
      ],
      "source": [
        "# SSE for training data\n",
        "rush_resid_train = epa_y2_train - model.predict(epa_x2_train)\n",
        "rush_sse_train = sse(rush_resid_train)\n",
        "rush_sse_train"
      ]
    },
    {
      "cell_type": "code",
      "execution_count": null,
      "metadata": {
        "colab": {
          "base_uri": "https://localhost:8080/",
          "height": 115
        },
        "id": "Ms9janHN86hX",
        "outputId": "739199f6-bbdb-46de-b2b6-0f0703c3227a"
      },
      "outputs": [
        {
          "output_type": "execute_result",
          "data": {
            "text/plain": [
              "rush_epa    0.219757\n",
              "dtype: float32"
            ],
            "text/html": [
              "<div>\n",
              "<style scoped>\n",
              "    .dataframe tbody tr th:only-of-type {\n",
              "        vertical-align: middle;\n",
              "    }\n",
              "\n",
              "    .dataframe tbody tr th {\n",
              "        vertical-align: top;\n",
              "    }\n",
              "\n",
              "    .dataframe thead th {\n",
              "        text-align: right;\n",
              "    }\n",
              "</style>\n",
              "<table border=\"1\" class=\"dataframe\">\n",
              "  <thead>\n",
              "    <tr style=\"text-align: right;\">\n",
              "      <th></th>\n",
              "      <th>0</th>\n",
              "    </tr>\n",
              "  </thead>\n",
              "  <tbody>\n",
              "    <tr>\n",
              "      <th>rush_epa</th>\n",
              "      <td>0.219757</td>\n",
              "    </tr>\n",
              "  </tbody>\n",
              "</table>\n",
              "</div><br><label><b>dtype:</b> float32</label>"
            ]
          },
          "metadata": {},
          "execution_count": 30
        }
      ],
      "source": [
        "# SSE for testing data\n",
        "rush_resid_test = epa_y2_test - model.predict(epa_x2_test)\n",
        "rush_sse_test = sse(rush_resid_test)\n",
        "rush_sse_test"
      ]
    },
    {
      "cell_type": "code",
      "execution_count": null,
      "metadata": {
        "id": "3w57Thkl9_bJ",
        "colab": {
          "base_uri": "https://localhost:8080/",
          "height": 288
        },
        "outputId": "232ae165-467f-4749-cd62-cee163b3b7bd"
      },
      "outputs": [
        {
          "output_type": "display_data",
          "data": {
            "text/plain": [
              "<Figure size 1200x300 with 2 Axes>"
            ],
            "image/png": "[encoded data removed]"
          },
          "metadata": {}
        }
      ],
      "source": [
        "def plot_residualsR_and_coeff(resid_train, resid_test, coeff):\n",
        "    fig, axes = plt.subplots(1, 2, figsize=(12, 3))\n",
        "    axes[0].bar(np.arange(len(resid_train)), resid_train['rush_epa'].values)\n",
        "    axes[0].set_xlabel(\"sample number\")\n",
        "    axes[0].set_ylabel(\"residual\")\n",
        "    axes[0].set_title(\"training data\")\n",
        "    axes[1].bar(np.arange(len(resid_test)), resid_test['rush_epa'].values)\n",
        "    axes[1].set_xlabel(\"sample number\")\n",
        "    axes[1].set_ylabel(\"residual\")\n",
        "    axes[1].set_title(\"testing data\")\n",
        "    fig.tight_layout()\n",
        "    return fig, axes\n",
        "\n",
        "fig, ax = plot_residualsR_and_coeff(rush_resid_train, rush_resid_test, model.coef_)"
      ]
    },
    {
      "cell_type": "code",
      "source": [
        "# Computing r-squared for testing data\n",
        "model.score(epa_x2_test, epa_y2_test)"
      ],
      "metadata": {
        "colab": {
          "base_uri": "https://localhost:8080/"
        },
        "id": "b-VyOJPuonpa",
        "outputId": "a1640e61-bb90-4718-e0b4-05ddfafc9b43"
      },
      "execution_count": null,
      "outputs": [
        {
          "output_type": "execute_result",
          "data": {
            "text/plain": [
              "0.2450098991394043"
            ]
          },
          "metadata": {},
          "execution_count": 32
        }
      ]
    },
    {
      "cell_type": "code",
      "source": [
        "# Computing r-squared for testing data\n",
        "model.score(epa_x2_train, epa_y2_train)"
      ],
      "metadata": {
        "colab": {
          "base_uri": "https://localhost:8080/"
        },
        "id": "Gx21j7VUor-2",
        "outputId": "6232b2e9-9bb6-455d-d33a-3b83b8dc2b0e"
      },
      "execution_count": null,
      "outputs": [
        {
          "output_type": "execute_result",
          "data": {
            "text/plain": [
              "0.24768579006195068"
            ]
          },
          "metadata": {},
          "execution_count": 33
        }
      ]
    },
    {
      "cell_type": "code",
      "execution_count": null,
      "metadata": {
        "id": "n6d4o6RNeyrK",
        "colab": {
          "base_uri": "https://localhost:8080/",
          "height": 1000
        },
        "outputId": "213ea555-3f3a-4148-b898-45b8c4a1a312"
      },
      "outputs": [
        {
          "output_type": "display_data",
          "data": {
            "text/plain": [
              "<Figure size 640x480 with 1 Axes>"
            ],
            "image/png": "[encoded data removed]"
          },
          "metadata": {}
        },
        {
          "output_type": "display_data",
          "data": {
            "text/plain": [
              "<Figure size 640x480 with 1 Axes>"
            ],
            "image/png": "[encoded data removed]"
          },
          "metadata": {}
        },
        {
          "output_type": "display_data",
          "data": {
            "text/plain": [
              "<Figure size 800x600 with 2 Axes>"
            ],
            "image/png": "[encoded data removed]"
          },
          "metadata": {}
        }
      ],
      "source": [
        "import pandas as pd\n",
        "import matplotlib.pyplot as plt\n",
        "from sklearn.model_selection import train_test_split\n",
        "from sklearn.linear_model import LogisticRegression\n",
        "from sklearn.metrics import classification_report, roc_auc_score, roc_curve, precision_recall_curve\n",
        "from imblearn.over_sampling import SMOTE\n",
        "import seaborn as sns\n",
        "\n",
        "\n",
        "# Clean and preprocess the data\n",
        "epa_all_years.dropna(subset=['pass_epa', 'rush_epa'], inplace=True)\n",
        "\n",
        "epa_all_years['successful_pass'] = (epa_all_years['pass_epa'] > 0).astype(int)  # Successful pass: EPA > 0\n",
        "epa_all_years['touchdown'] = (epa_all_years['pass_epa'] > 0.2).astype(int)      # Touchdown: EPA > 0.2\n",
        "\n",
        "# Visualize distributions\n",
        "sns.histplot(epa_all_years['pass_epa'], kde=True, bins=30, color='blue')\n",
        "plt.title('Distribution of Pass EPA')\n",
        "plt.xlabel('Pass EPA')\n",
        "plt.ylabel('Frequency')\n",
        "plt.show()\n",
        "\n",
        "sns.histplot(epa_all_years['rush_epa'], kde=True, bins=30, color='green')\n",
        "plt.title('Distribution of Rush EPA')\n",
        "plt.xlabel('Rush EPA')\n",
        "plt.ylabel('Frequency')\n",
        "plt.show()\n",
        "\n",
        "# Correlation heatmap\n",
        "plt.figure(figsize=(8, 6))\n",
        "sns.heatmap(epa_all_years[['pass_epa', 'rush_epa', 'successful_pass', 'touchdown']].corr(), annot=True, cmap='coolwarm')\n",
        "plt.title('Correlation Heatmap')\n",
        "plt.show()\n",
        "\n"
      ]
    },
    {
      "cell_type": "code",
      "source": [
        "# Features and target for successful passes\n",
        "X_pass = epa_all_years[['rush_epa']]  # Add more features as needed\n",
        "y_pass = epa_all_years['successful_pass']\n",
        "\n",
        "# Resample data using SMOTE\n",
        "smote = SMOTE(random_state=42)\n",
        "X_pass_resampled, y_pass_resampled = smote.fit_resample(X_pass, y_pass)\n",
        "\n",
        "# Train-test split\n",
        "X_train_pass, X_test_pass, y_train_pass, y_test_pass = train_test_split(X_pass_resampled, y_pass_resampled, test_size=0.3, random_state=42)\n",
        "\n",
        "# Logistic regression for successful passes\n",
        "log_reg_pass = LogisticRegression()\n",
        "log_reg_pass.fit(X_train_pass, y_train_pass)\n",
        "\n",
        "# Predict probabilities\n",
        "y_pred_prob_pass = log_reg_pass.predict_proba(X_test_pass)[:, 1]\n",
        "\n",
        "# Evaluate the model\n",
        "roc_auc_pass = roc_auc_score(y_test_pass, y_pred_prob_pass)\n",
        "print(f\"AUC-ROC for Successful Passes: {roc_auc_pass:.2f}\")\n",
        "\n",
        "# Plot ROC Curve\n",
        "fpr_pass, tpr_pass, _ = roc_curve(y_test_pass, y_pred_prob_pass)\n",
        "plt.plot(fpr_pass, tpr_pass, label=f\"AUC = {roc_auc_pass:.2f}\")\n",
        "plt.plot([0, 1], [0, 1], linestyle='--')\n",
        "plt.xlabel(\"False Positive Rate\")\n",
        "plt.ylabel(\"True Positive Rate\")\n",
        "plt.title(\"ROC Curve for Successful Passes\")\n",
        "plt.legend()\n",
        "plt.show()\n"
      ],
      "metadata": {
        "colab": {
          "base_uri": "https://localhost:8080/",
          "height": 581
        },
        "id": "inW6FH6bsVuZ",
        "outputId": "11cfbdc5-0e06-42fe-d8f8-0fc050ccc816"
      },
      "execution_count": null,
      "outputs": [
        {
          "output_type": "stream",
          "name": "stderr",
          "text": [
            "/usr/local/lib/python3.10/dist-packages/sklearn/base.py:474: FutureWarning: `BaseEstimator._validate_data` is deprecated in 1.6 and will be removed in 1.7. Use `sklearn.utils.validation.validate_data` instead. This function becomes public and is part of the scikit-learn developer API.\n",
            "  warnings.warn(\n",
            "/usr/local/lib/python3.10/dist-packages/sklearn/utils/_tags.py:354: FutureWarning: The SMOTE or classes from which it inherits use `_get_tags` and `_more_tags`. Please define the `__sklearn_tags__` method, or inherit from `sklearn.base.BaseEstimator` and/or other appropriate mixins such as `sklearn.base.TransformerMixin`, `sklearn.base.ClassifierMixin`, `sklearn.base.RegressorMixin`, and `sklearn.base.OutlierMixin`. From scikit-learn 1.7, not defining `__sklearn_tags__` will raise an error.\n",
            "  warnings.warn(\n"
          ]
        },
        {
          "output_type": "stream",
          "name": "stdout",
          "text": [
            "AUC-ROC for Successful Passes: 0.73\n"
          ]
        },
        {
          "output_type": "display_data",
          "data": {
            "text/plain": [
              "<Figure size 640x480 with 1 Axes>"
            ],
            "image/png": "[encoded data removed]"
          },
          "metadata": {}
        }
      ]
    },
    {
      "cell_type": "code",
      "source": [
        "# Features and target for touchdowns\n",
        "X_td = epa_all_years[['rush_epa']]  # Add more features as needed\n",
        "y_td = epa_all_years['touchdown']\n",
        "\n",
        "# Resample data using SMOTE\n",
        "X_td_resampled, y_td_resampled = smote.fit_resample(X_td, y_td)\n",
        "\n",
        "# Train-test split\n",
        "X_train_td, X_test_td, y_train_td, y_test_td = train_test_split(X_td_resampled, y_td_resampled, test_size=0.3, random_state=42)\n",
        "\n",
        "# Logistic regression for touchdowns\n",
        "log_reg_td = LogisticRegression()\n",
        "log_reg_td.fit(X_train_td, y_train_td)\n",
        "\n",
        "# Predict probabilities\n",
        "y_pred_prob_td = log_reg_td.predict_proba(X_test_td)[:, 1]\n",
        "\n",
        "# Evaluate the model\n",
        "roc_auc_td = roc_auc_score(y_test_td, y_pred_prob_td)\n",
        "print(f\"AUC-ROC for Touchdowns: {roc_auc_td:.2f}\")\n",
        "\n",
        "# Plot ROC Curve\n",
        "fpr_td, tpr_td, _ = roc_curve(y_test_td, y_pred_prob_td)\n",
        "plt.plot(fpr_td, tpr_td, label=f\"AUC = {roc_auc_td:.2f}\")\n",
        "plt.plot([0, 1], [0, 1], linestyle='--')\n",
        "plt.xlabel(\"False Positive Rate\")\n",
        "plt.ylabel(\"True Positive Rate\")\n",
        "plt.title(\"ROC Curve for Touchdowns\")\n",
        "plt.legend()\n",
        "plt.show()\n"
      ],
      "metadata": {
        "colab": {
          "base_uri": "https://localhost:8080/",
          "height": 581
        },
        "id": "eq3J_qxvs_Ov",
        "outputId": "24832bed-0643-4217-c3d2-129970accc00"
      },
      "execution_count": null,
      "outputs": [
        {
          "output_type": "stream",
          "name": "stderr",
          "text": [
            "/usr/local/lib/python3.10/dist-packages/sklearn/base.py:474: FutureWarning: `BaseEstimator._validate_data` is deprecated in 1.6 and will be removed in 1.7. Use `sklearn.utils.validation.validate_data` instead. This function becomes public and is part of the scikit-learn developer API.\n",
            "  warnings.warn(\n",
            "/usr/local/lib/python3.10/dist-packages/sklearn/utils/_tags.py:354: FutureWarning: The SMOTE or classes from which it inherits use `_get_tags` and `_more_tags`. Please define the `__sklearn_tags__` method, or inherit from `sklearn.base.BaseEstimator` and/or other appropriate mixins such as `sklearn.base.TransformerMixin`, `sklearn.base.ClassifierMixin`, `sklearn.base.RegressorMixin`, and `sklearn.base.OutlierMixin`. From scikit-learn 1.7, not defining `__sklearn_tags__` will raise an error.\n",
            "  warnings.warn(\n"
          ]
        },
        {
          "output_type": "stream",
          "name": "stdout",
          "text": [
            "AUC-ROC for Touchdowns: 0.97\n"
          ]
        },
        {
          "output_type": "display_data",
          "data": {
            "text/plain": [
              "<Figure size 640x480 with 1 Axes>"
            ],
            "image/png": "[encoded data removed]"
          },
          "metadata": {}
        }
      ]
    },
    {
      "cell_type": "code",
      "source": [
        "# Precision-Recall Curve for Touchdowns\n",
        "precision_td, recall_td, thresholds_td = precision_recall_curve(y_test_td, y_pred_prob_td)\n",
        "optimal_idx = (precision_td * recall_td).argmax()\n",
        "optimal_threshold = thresholds_td[optimal_idx]\n",
        "\n",
        "print(f\"Optimal Threshold for Touchdowns: {optimal_threshold:.2f}\")\n",
        "\n",
        "# Predict with adjusted threshold\n",
        "y_pred_td_adjusted = (y_pred_prob_td >= optimal_threshold).astype(int)\n",
        "\n",
        "# Evaluate with adjusted threshold\n",
        "print(\"\\nClassification Report for Touchdowns (Adjusted Threshold):\")\n",
        "print(classification_report(y_test_td, y_pred_td_adjusted))\n"
      ],
      "metadata": {
        "colab": {
          "base_uri": "https://localhost:8080/"
        },
        "id": "Q_wIGGMYtC2K",
        "outputId": "8103ba57-65ea-49cf-80ab-6ef31839bee2"
      },
      "execution_count": null,
      "outputs": [
        {
          "output_type": "stream",
          "name": "stdout",
          "text": [
            "Optimal Threshold for Touchdowns: 0.46\n",
            "\n",
            "Classification Report for Touchdowns (Adjusted Threshold):\n",
            "              precision    recall  f1-score   support\n",
            "\n",
            "           0       1.00      0.86      0.93        22\n",
            "           1       0.91      1.00      0.95        31\n",
            "\n",
            "    accuracy                           0.94        53\n",
            "   macro avg       0.96      0.93      0.94        53\n",
            "weighted avg       0.95      0.94      0.94        53\n",
            "\n"
          ]
        }
      ]
    },
    {
      "cell_type": "markdown",
      "metadata": {
        "id": "ioOO5RoDJkrQ"
      },
      "source": []
    }
  ],
  "metadata": {
    "colab": {
      "provenance": []
    },
    "kernelspec": {
      "display_name": "Python 3",
      "name": "python3"
    },
    "language_info": {
      "name": "python"
    }
  },
  "nbformat": 4,
  "nbformat_minor": 0
}